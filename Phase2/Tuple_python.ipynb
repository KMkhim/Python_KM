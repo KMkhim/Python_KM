{
 "cells":[
  {
   "cell_type":"markdown",
   "source":[
    "<h1> Tuple <\/h1>\n",
    "<h4> การนิยาม Tuple <\/h4>\n",
    "<h4> tuple vs list <\/h4>\n",
    "<h4> การเข้าถึงข้อมูล <\/h4>\n",
    "<h4> การแก้ไขข้อมูล <\/h4>\n",
    "<h4> การแสดงผลด้วย loop <\/h4>\n",
    "<h4> การตรวจสอบข้อมูล<\/h4>\n",
    "<h4> นับจำนวนสมาชิก len() <\/h4>\n",
    "<h4>การสร้างและเพิ่มข้อมูล <\/h4>\n",
    "<h4> การลบข้อมูล <\/h4>\n",
    "<h4>ค้นหาและนับจำนวนสมาชิก .count() <\/h4>\n",
    "<h4> หาตำแหน่งของข้อมูล(ตัวแรกที่เจอ) <\/h4>\n",
    "<h4> เรียงข้อมูล จากน้อยไปมาก <\/h4>\n",
    "<h4> นำค่า tuple ใส่ใน ตัวแปร <\/h4>\n",
    "<h4> สลับค่าในตัวแปร <\/h4>\n",
    "<h4> เปลี่ยน tuple เป็น string <\/h4>\n",
    "<h4> reverse <\/h4>\n",
    "<h4> string => tuple <\/h4>"
   ],
   "attachments":{
    
   },
   "metadata":{
    "datalore":{
     "node_id":"Gs9LaQU2FkiYfHthVx7sxg",
     "type":"MD",
     "hide_input_from_viewers":true,
     "hide_output_from_viewers":true
    }
   }
  },
  {
   "cell_type":"code",
   "source":[
    "tup = (1, \"k\", True, 3.9)\n",
    "print(tup) "
   ],
   "execution_count":4,
   "outputs":[
    {
     "name":"stdout",
     "text":[
      "(1, 'k', True, 3.9)\n"
     ],
     "output_type":"stream"
    }
   ],
   "metadata":{
    "datalore":{
     "node_id":"7hogoW1YMZzYftwc5WXXlR",
     "type":"CODE",
     "hide_input_from_viewers":true,
     "hide_output_from_viewers":true
    }
   }
  },
  {
   "cell_type":"code",
   "source":[
    "tup1 = tuple(((1, 2, 3, 4)))\n",
    "print(tup1)"
   ],
   "execution_count":2,
   "outputs":[
    {
     "name":"stdout",
     "text":[
      "(1, 2, 3, 4)\n"
     ],
     "output_type":"stream"
    }
   ],
   "metadata":{
    "datalore":{
     "node_id":"fK1N0BrSDJLqgZa6DhdS0F",
     "type":"CODE",
     "hide_input_from_viewers":true,
     "hide_output_from_viewers":true
    }
   }
  },
  {
   "cell_type":"markdown",
   "source":[
    "<h4> tuple vs list <\/h4>"
   ],
   "attachments":{
    
   },
   "metadata":{
    "datalore":{
     "node_id":"e8C5gfidGl41DFittwyk4i",
     "type":"MD",
     "hide_input_from_viewers":true,
     "hide_output_from_viewers":true
    }
   }
  },
  {
   "cell_type":"code",
   "source":[
    "lis = list([1, 2, 3, \"k\"])\n",
    "tup1 = tuple((1, 2, 3, 4))\n",
    "print(len(tup1))"
   ],
   "execution_count":3,
   "outputs":[
    {
     "name":"stdout",
     "text":[
      "4\n"
     ],
     "output_type":"stream"
    }
   ],
   "metadata":{
    "datalore":{
     "node_id":"NzuQH03DtzaGlUHhQQHjqP",
     "type":"CODE",
     "hide_input_from_viewers":true,
     "hide_output_from_viewers":true
    }
   }
  },
  {
   "cell_type":"markdown",
   "source":[
    "<h4> การเข้าถึงข้อมูล <\/h4>"
   ],
   "attachments":{
    
   },
   "metadata":{
    "datalore":{
     "node_id":"KkyDKjnYDQTqCCyDD5fBtq",
     "type":"MD",
     "hide_input_from_viewers":true,
     "hide_output_from_viewers":true
    }
   }
  },
  {
   "cell_type":"code",
   "source":[
    "tup = (1, \"k\", True, 3.9)\n",
    "print(tup[3]) \n",
    "print(tup[0:3])\n",
    "print(tup[1:]) \n",
    "print(tup[:-1]) "
   ],
   "execution_count":5,
   "outputs":[
    {
     "name":"stdout",
     "text":[
      "3.9\n",
      "(1, 'k', True)\n",
      "('k', True, 3.9)\n",
      "(1, 'k', True)\n"
     ],
     "output_type":"stream"
    }
   ],
   "metadata":{
    "datalore":{
     "node_id":"A8pueaZiw46z60hpRMECS0",
     "type":"CODE",
     "hide_input_from_viewers":true,
     "hide_output_from_viewers":true
    }
   }
  },
  {
   "cell_type":"markdown",
   "source":[
    "<h4> การแก้ไขข้อมูล <\/h4>"
   ],
   "attachments":{
    
   },
   "metadata":{
    "datalore":{
     "node_id":"H4O7Ozpq8KrJ74EMKAzExj",
     "type":"MD",
     "hide_input_from_viewers":true,
     "hide_output_from_viewers":true
    }
   }
  },
  {
   "cell_type":"code",
   "source":[
    "tup1 = tuple((1, 2, 3, 4))"
   ],
   "execution_count":8,
   "outputs":[
    
   ],
   "metadata":{
    "datalore":{
     "node_id":"WbW7V1FKyfVd9tv8M6nBEv",
     "type":"CODE",
     "hide_input_from_viewers":true,
     "hide_output_from_viewers":true
    }
   }
  },
  {
   "cell_type":"markdown",
   "source":[
    "tuple => List"
   ],
   "attachments":{
    
   },
   "metadata":{
    "datalore":{
     "node_id":"3D0Xg7O0Me9fcZa4IHMOdJ",
     "type":"MD",
     "hide_input_from_viewers":true,
     "hide_output_from_viewers":true
    }
   }
  },
  {
   "cell_type":"code",
   "source":[
    "lis = list(tup1)\n",
    "print(lis)\n",
    "\n",
    "lis[0] = \"bangkok\"\n",
    "print(lis)"
   ],
   "execution_count":9,
   "outputs":[
    {
     "name":"stdout",
     "text":[
      "[1, 2, 3, 4]\n",
      "['bangkok', 2, 3, 4]\n"
     ],
     "output_type":"stream"
    }
   ],
   "metadata":{
    "datalore":{
     "node_id":"i7V6hUhRapIWRfv7p8B61e",
     "type":"CODE",
     "hide_input_from_viewers":true,
     "hide_output_from_viewers":true
    }
   }
  },
  {
   "cell_type":"markdown",
   "source":[
    "List=> tuple"
   ],
   "attachments":{
    
   },
   "metadata":{
    "datalore":{
     "node_id":"ynaF6veG58I0W7x7HWDnKq",
     "type":"MD",
     "hide_input_from_viewers":true,
     "hide_output_from_viewers":true
    }
   }
  },
  {
   "cell_type":"code",
   "source":[
    "tup1 = tuple(lis)\n",
    "print(tup1) \n",
    "print(type(tup1))"
   ],
   "execution_count":10,
   "outputs":[
    {
     "name":"stdout",
     "text":[
      "('bangkok', 2, 3, 4)\n",
      "<class 'tuple'>\n"
     ],
     "output_type":"stream"
    }
   ],
   "metadata":{
    "datalore":{
     "node_id":"oCq3toK0fQayvnqpRVAhPA",
     "type":"CODE",
     "hide_input_from_viewers":true,
     "hide_output_from_viewers":true
    }
   }
  },
  {
   "cell_type":"markdown",
   "source":[
    "<h4> การแสดงผลด้วย loop <\/h4>"
   ],
   "attachments":{
    
   },
   "metadata":{
    "datalore":{
     "node_id":"p6JQ6WNbkkowNYBRvb6hwK",
     "type":"MD",
     "hide_input_from_viewers":true,
     "hide_output_from_viewers":true
    }
   }
  },
  {
   "cell_type":"code",
   "source":[
    "tup = (1, 2, 3, 4, \"khim\", \"mango\", True, 3.99)"
   ],
   "execution_count":12,
   "outputs":[
    
   ],
   "metadata":{
    "datalore":{
     "node_id":"8vQaUGG4jlmBsIHyCCImko",
     "type":"CODE",
     "hide_input_from_viewers":true,
     "hide_output_from_viewers":true
    }
   }
  },
  {
   "cell_type":"code",
   "source":[
    "for item in tup :\n",
    "    print (item)"
   ],
   "execution_count":13,
   "outputs":[
    {
     "name":"stdout",
     "text":[
      "1\n",
      "2\n",
      "3\n",
      "4\n",
      "khim\n",
      "mango\n",
      "True\n",
      "3.99\n"
     ],
     "output_type":"stream"
    }
   ],
   "metadata":{
    "datalore":{
     "node_id":"ZxXxDTS3BUlETJ41Hf0CW3",
     "type":"CODE",
     "hide_input_from_viewers":true,
     "hide_output_from_viewers":true
    }
   }
  },
  {
   "cell_type":"markdown",
   "source":[
    "<h4> การตรวจสอบข้อมูล<\/h4>"
   ],
   "attachments":{
    
   },
   "metadata":{
    "datalore":{
     "node_id":"347cV8uqf3Rv1J13qHKj6W",
     "type":"MD",
     "hide_input_from_viewers":true,
     "hide_output_from_viewers":true
    }
   }
  },
  {
   "cell_type":"code",
   "source":[
    "if \"durian\" in tup :\n",
    "    print(\"True\")\n",
    "else :\n",
    "    print(\"False\")"
   ],
   "execution_count":14,
   "outputs":[
    {
     "name":"stdout",
     "text":[
      "False\n"
     ],
     "output_type":"stream"
    }
   ],
   "metadata":{
    "datalore":{
     "node_id":"VPQ9cLZjWrgA68bUrIQ63V",
     "type":"CODE",
     "hide_input_from_viewers":true,
     "hide_output_from_viewers":true
    }
   }
  },
  {
   "cell_type":"markdown",
   "source":[
    "<h4> นับจำนวนสมาชิก len() <\/h4>"
   ],
   "attachments":{
    
   },
   "metadata":{
    "datalore":{
     "node_id":"bIqDSSP2CsweEbzihUSbbF",
     "type":"MD",
     "hide_input_from_viewers":true,
     "hide_output_from_viewers":true
    }
   }
  },
  {
   "cell_type":"code",
   "source":[
    "tup = (1, 2, 3, 4, \"khim\", \"mango\", True, 3.99)"
   ],
   "execution_count":17,
   "outputs":[
    
   ],
   "metadata":{
    "datalore":{
     "node_id":"nAE5MW9AWJkG70LEd1DMfT",
     "type":"CODE",
     "hide_input_from_viewers":true,
     "hide_output_from_viewers":true
    }
   }
  },
  {
   "cell_type":"code",
   "source":[
    "print(len(tup)) "
   ],
   "execution_count":15,
   "outputs":[
    {
     "name":"stdout",
     "text":[
      "8\n"
     ],
     "output_type":"stream"
    }
   ],
   "metadata":{
    "datalore":{
     "node_id":"391ROrnIRRrQqQzAjAct8g",
     "type":"CODE",
     "hide_input_from_viewers":true,
     "hide_output_from_viewers":true
    }
   }
  },
  {
   "cell_type":"code",
   "source":[
    "for item in range(len(tup)) :\n",
    "    print(tup[item])"
   ],
   "execution_count":18,
   "outputs":[
    {
     "name":"stdout",
     "text":[
      "1\n",
      "2\n",
      "3\n",
      "4\n",
      "khim\n",
      "mango\n",
      "True\n",
      "3.99\n"
     ],
     "output_type":"stream"
    }
   ],
   "metadata":{
    "datalore":{
     "node_id":"DDwoln1KN4ctA6lCLxtGfK",
     "type":"CODE",
     "hide_input_from_viewers":true,
     "hide_output_from_viewers":true
    }
   }
  },
  {
   "cell_type":"markdown",
   "source":[
    "<h4>การสร้างและเพิ่มข้อมูล <\/h4>"
   ],
   "attachments":{
    
   },
   "metadata":{
    "datalore":{
     "node_id":"XtFftNe9tne2tOcXFE8taf",
     "type":"MD",
     "hide_input_from_viewers":true,
     "hide_output_from_viewers":true
    }
   }
  },
  {
   "cell_type":"code",
   "source":[
    "x = ()\n",
    "print(type(x))"
   ],
   "execution_count":1,
   "outputs":[
    {
     "name":"stdout",
     "text":[
      "<class 'tuple'>\n"
     ],
     "output_type":"stream"
    }
   ],
   "metadata":{
    "datalore":{
     "node_id":"lN74tUDiC6JjSv0b9uRY0l",
     "type":"CODE",
     "hide_input_from_viewers":true,
     "hide_output_from_viewers":true
    }
   }
  },
  {
   "cell_type":"code",
   "source":[
    "y = (\"khim\")\n",
    "print(type(y))\n",
    "\n",
    "y = (\"khim\" ,)\n",
    "print(type(y))"
   ],
   "execution_count":2,
   "outputs":[
    {
     "name":"stdout",
     "text":[
      "<class 'str'>\n",
      "<class 'tuple'>\n"
     ],
     "output_type":"stream"
    }
   ],
   "metadata":{
    "datalore":{
     "node_id":"DRwJFG8i4xVbAGIx5VeobM",
     "type":"CODE",
     "hide_input_from_viewers":true,
     "hide_output_from_viewers":true
    }
   }
  },
  {
   "cell_type":"code",
   "source":[
    "z = (1)\n",
    "print(type(z)) \n",
    "\n",
    "z = (1, )\n",
    "print(type(z))"
   ],
   "execution_count":4,
   "outputs":[
    {
     "name":"stdout",
     "text":[
      "<class 'int'>\n",
      "<class 'tuple'>\n"
     ],
     "output_type":"stream"
    }
   ],
   "metadata":{
    "datalore":{
     "node_id":"82Jp8EG4azUGdGaOryut6Z",
     "type":"CODE",
     "hide_input_from_viewers":true,
     "hide_output_from_viewers":true
    }
   }
  },
  {
   "cell_type":"code",
   "source":[
    "name = (\"khim\" , \"Prawta\" )\n",
    "new = \"bb\""
   ],
   "execution_count":6,
   "outputs":[
    
   ],
   "metadata":{
    "datalore":{
     "node_id":"uYWin1gphtGN2fTPq3JpKH",
     "type":"CODE",
     "hide_input_from_viewers":true,
     "hide_output_from_viewers":true
    }
   }
  },
  {
   "cell_type":"code",
   "source":[
    "name = name + (new ,)\n",
    "print(name)"
   ],
   "execution_count":7,
   "outputs":[
    {
     "name":"stdout",
     "text":[
      "('khim', 'Prawta', 'bb')\n"
     ],
     "output_type":"stream"
    }
   ],
   "metadata":{
    "datalore":{
     "node_id":"Vq3T0CwKamiETbP9zrs7Mi",
     "type":"CODE",
     "hide_input_from_viewers":true,
     "hide_output_from_viewers":true
    }
   }
  },
  {
   "cell_type":"markdown",
   "source":[
    "<h4> การลบข้อมูล <\/h4>"
   ],
   "attachments":{
    
   },
   "metadata":{
    "datalore":{
     "node_id":"oR4AdbNLls6bFhLTXmLTiW",
     "type":"MD",
     "hide_input_from_viewers":true,
     "hide_output_from_viewers":true
    }
   }
  },
  {
   "cell_type":"markdown",
   "source":[
    "tuple => list"
   ],
   "attachments":{
    
   },
   "metadata":{
    "datalore":{
     "node_id":"6PRNEd9miqeYfs6ZlX5nxi",
     "type":"MD",
     "hide_input_from_viewers":true,
     "hide_output_from_viewers":true
    }
   }
  },
  {
   "cell_type":"code",
   "source":[
    "tup3 = (1, 2, 3, 4)\n",
    "print(tup3)"
   ],
   "execution_count":17,
   "outputs":[
    {
     "name":"stdout",
     "text":[
      "(1, 2, 3, 4)\n"
     ],
     "output_type":"stream"
    }
   ],
   "metadata":{
    "datalore":{
     "node_id":"LE2V1X9enhiZCBFcn5ob1N",
     "type":"CODE",
     "hide_input_from_viewers":true,
     "hide_output_from_viewers":true
    }
   }
  },
  {
   "cell_type":"code",
   "source":[
    "lis = list(tup3)"
   ],
   "execution_count":18,
   "outputs":[
    
   ],
   "metadata":{
    "datalore":{
     "node_id":"3iLIFwkM8HW7dkc9lgrA2B",
     "type":"CODE",
     "hide_input_from_viewers":true,
     "hide_output_from_viewers":true
    }
   }
  },
  {
   "cell_type":"markdown",
   "source":[
    ".pop() ลบตัวสุดท้าย"
   ],
   "attachments":{
    
   },
   "metadata":{
    "datalore":{
     "node_id":"vxvCJDGixstdmuR4esWKYx",
     "type":"MD",
     "hide_input_from_viewers":true,
     "hide_output_from_viewers":true
    }
   }
  },
  {
   "cell_type":"code",
   "source":[
    "lis.pop() #ลบตัวท้ายสุด\n",
    "\n",
    "print(lis)"
   ],
   "execution_count":19,
   "outputs":[
    {
     "name":"stdout",
     "text":[
      "[1, 2, 3]\n"
     ],
     "output_type":"stream"
    }
   ],
   "metadata":{
    "datalore":{
     "node_id":"qAerEvIyXhZOPCg9a7DEd0",
     "type":"CODE",
     "hide_input_from_viewers":true,
     "hide_output_from_viewers":true
    }
   }
  },
  {
   "cell_type":"code",
   "source":[
    "lis.remove(2)\n",
    "\n",
    "print(lis)"
   ],
   "execution_count":20,
   "outputs":[
    {
     "name":"stdout",
     "text":[
      "[1, 3]\n"
     ],
     "output_type":"stream"
    }
   ],
   "metadata":{
    "datalore":{
     "node_id":"yXPjWfXY5RfKAkbxfpHec2",
     "type":"CODE",
     "hide_input_from_viewers":true,
     "hide_output_from_viewers":true
    }
   }
  },
  {
   "cell_type":"markdown",
   "source":[
    "list => tuple"
   ],
   "attachments":{
    
   },
   "metadata":{
    "datalore":{
     "node_id":"8nSqK9nCVgyEilTEqekt4L",
     "type":"MD",
     "hide_input_from_viewers":true,
     "hide_output_from_viewers":true
    }
   }
  },
  {
   "cell_type":"code",
   "source":[
    "tup3 = tuple(lis)\n",
    "\n",
    "print(tup3)"
   ],
   "execution_count":21,
   "outputs":[
    {
     "name":"stdout",
     "text":[
      "(1, 3)\n"
     ],
     "output_type":"stream"
    }
   ],
   "metadata":{
    "datalore":{
     "node_id":"bhvh3VT8fsUh1FnmyRrSEw",
     "type":"CODE",
     "hide_input_from_viewers":true,
     "hide_output_from_viewers":true
    }
   }
  },
  {
   "cell_type":"markdown",
   "source":[
    "<h4>ค้นหาและนับจำนวนสมาชิก .count() <\/h4>"
   ],
   "attachments":{
    
   },
   "metadata":{
    "datalore":{
     "node_id":"PNDFxtTJsKGwEQlMBAKKXN",
     "type":"MD",
     "hide_input_from_viewers":true,
     "hide_output_from_viewers":true
    }
   }
  },
  {
   "cell_type":"code",
   "source":[
    "tup = (1, 2, 3, 4, \"khim\", \"mango\", True, 3.99, 4)\n",
    "print(tup.count(4))"
   ],
   "execution_count":22,
   "outputs":[
    {
     "name":"stdout",
     "text":[
      "2\n"
     ],
     "output_type":"stream"
    }
   ],
   "metadata":{
    "datalore":{
     "node_id":"thX3HedukLH29yaHNeib36",
     "type":"CODE",
     "hide_input_from_viewers":true,
     "hide_output_from_viewers":true
    }
   }
  },
  {
   "cell_type":"markdown",
   "source":[
    "<h4> หาตำแหน่งของข้อมูล(ตัวแรกที่เจอ) <\/h4>"
   ],
   "attachments":{
    
   },
   "metadata":{
    "datalore":{
     "node_id":"4MVfwYrvlsEbBSdljc2Gyt",
     "type":"MD",
     "hide_input_from_viewers":true,
     "hide_output_from_viewers":true
    }
   }
  },
  {
   "cell_type":"code",
   "source":[
    "print(tup.index(4))"
   ],
   "execution_count":23,
   "outputs":[
    {
     "name":"stdout",
     "text":[
      "3\n"
     ],
     "output_type":"stream"
    }
   ],
   "metadata":{
    "datalore":{
     "node_id":"Sa0s1PFtOczzIlIPtcRZ7t",
     "type":"CODE",
     "hide_input_from_viewers":true,
     "hide_output_from_viewers":true
    }
   }
  },
  {
   "cell_type":"markdown",
   "source":[
    "<h4> เรียงข้อมูล จากน้อยไปมาก <\/h4>"
   ],
   "attachments":{
    
   },
   "metadata":{
    "datalore":{
     "node_id":"AvMu7Cq7MF3z60P9AogNET",
     "type":"MD",
     "hide_input_from_viewers":true,
     "hide_output_from_viewers":true
    }
   }
  },
  {
   "cell_type":"code",
   "source":[
    "tup = (100, 99, 98, 66 ,900, 1)\n",
    "\n",
    "lis = list(tup)\n",
    "lis.sort()\n",
    " \n",
    "tup = tuple(lis)\n",
    "print(tup)"
   ],
   "execution_count":24,
   "outputs":[
    {
     "name":"stdout",
     "text":[
      "(1, 66, 98, 99, 100, 900)\n"
     ],
     "output_type":"stream"
    }
   ],
   "metadata":{
    "datalore":{
     "node_id":"zgtnpH0BJ20f4wSU743Aie",
     "type":"CODE",
     "hide_input_from_viewers":true,
     "hide_output_from_viewers":true
    }
   }
  },
  {
   "cell_type":"markdown",
   "source":[
    "<h4> นำค่า tuple ใส่ใน ตัวแปร <\/h4>"
   ],
   "attachments":{
    
   },
   "metadata":{
    "datalore":{
     "node_id":"yJgjCTQgKnzcRey5yoCJQd",
     "type":"MD",
     "hide_input_from_viewers":true,
     "hide_output_from_viewers":true
    }
   }
  },
  {
   "cell_type":"code",
   "source":[
    "tup = (10, 20, 30)\n",
    "a, b , c = tup\n",
    "print(a , b, c)"
   ],
   "execution_count":25,
   "outputs":[
    {
     "name":"stdout",
     "text":[
      "10 20 30\n"
     ],
     "output_type":"stream"
    }
   ],
   "metadata":{
    "datalore":{
     "node_id":"pnd2CdM0Wx7JPVEGs84zjV",
     "type":"CODE",
     "hide_input_from_viewers":true,
     "hide_output_from_viewers":true
    }
   }
  },
  {
   "cell_type":"markdown",
   "source":[
    
   ],
   "attachments":{
    
   },
   "metadata":{
    "datalore":{
     "node_id":"qclTYScwXXInfTHDxbzj5r",
     "type":"MD",
     "hide_input_from_viewers":true,
     "hide_output_from_viewers":true
    }
   }
  },
  {
   "cell_type":"markdown",
   "source":[
    "<h4> สลับตัวแปร <\/h4>"
   ],
   "attachments":{
    
   },
   "metadata":{
    "datalore":{
     "node_id":"4iTSpUQRZwJ0oczugRwmhB",
     "type":"MD",
     "hide_input_from_viewers":true,
     "hide_output_from_viewers":true
    }
   }
  },
  {
   "cell_type":"code",
   "source":[
    "\n",
    "x = (50, 60)\n",
    "y = (1, 2)\n",
    "\n",
    "x,y = y,x\n",
    "\n",
    "print(x) \n",
    "print(y)"
   ],
   "execution_count":27,
   "outputs":[
    {
     "name":"stdout",
     "text":[
      "(1, 2)\n",
      "(50, 60)\n"
     ],
     "output_type":"stream"
    }
   ],
   "metadata":{
    "datalore":{
     "node_id":"x6Pxfg31lXaOGDXeYVxDa9",
     "type":"CODE",
     "hide_input_from_viewers":true,
     "hide_output_from_viewers":true
    }
   }
  },
  {
   "cell_type":"markdown",
   "source":[
    "<h4> แปลง tuple เป็น string <\/h4>"
   ],
   "attachments":{
    
   },
   "metadata":{
    "datalore":{
     "node_id":"riH1qpH6eaEwZWxpATT8As",
     "type":"MD",
     "hide_input_from_viewers":true,
     "hide_output_from_viewers":true
    }
   }
  },
  {
   "cell_type":"code",
   "source":[
    "charac = (\"k\", \"h\", \"i\", \"m\")\n",
    "name = \"\".join(charac) #เอา str \"\" ไป join กับ ตัวอักษรสี่ตัว และเก็บไว้ที่ตัวแปร name\n",
    "print(name)"
   ],
   "execution_count":1,
   "outputs":[
    {
     "name":"stdout",
     "text":[
      "khim\n"
     ],
     "output_type":"stream"
    }
   ],
   "metadata":{
    "datalore":{
     "node_id":"D3KYxzo31y6bvBqkaVMSj3",
     "type":"CODE",
     "hide_input_from_viewers":true,
     "hide_output_from_viewers":true
    }
   }
  },
  {
   "cell_type":"markdown",
   "source":[
    "<h4> reverse tuple <\/h4>"
   ],
   "attachments":{
    
   },
   "metadata":{
    "datalore":{
     "node_id":"LvpsylHfGQLi68fNsDfwVF",
     "type":"MD",
     "hide_input_from_viewers":true,
     "hide_output_from_viewers":true
    }
   }
  },
  {
   "cell_type":"code",
   "source":[
    "\n",
    "x = (1, 2, 3)\n",
    "#x = x.reverse() 'tuple' object has no attribute 'reverse'\n",
    "y = reversed(x)\n",
    "print(tuple(y))"
   ],
   "execution_count":2,
   "outputs":[
    {
     "name":"stdout",
     "text":[
      "(3, 2, 1)\n"
     ],
     "output_type":"stream"
    }
   ],
   "metadata":{
    "datalore":{
     "node_id":"0Je5YM56QGU3DmpIBiGzwA",
     "type":"CODE",
     "hide_input_from_viewers":true,
     "hide_output_from_viewers":true
    }
   }
  },
  {
   "cell_type":"markdown",
   "source":[
    "<h4> string => tuple <\/h4>"
   ],
   "attachments":{
    
   },
   "metadata":{
    "datalore":{
     "node_id":"rvEEDvac7DjoPKNYZSdX7S",
     "type":"MD",
     "hide_input_from_viewers":true,
     "hide_output_from_viewers":true
    }
   }
  },
  {
   "cell_type":"code",
   "source":[
    "x = \"khim\"\n",
    "y = tuple(x)\n",
    "print(y) \n",
    "z = tuple(reversed(x))\n",
    "print(z)"
   ],
   "execution_count":3,
   "outputs":[
    {
     "name":"stdout",
     "text":[
      "('k', 'h', 'i', 'm')\n",
      "('m', 'i', 'h', 'k')\n"
     ],
     "output_type":"stream"
    }
   ],
   "metadata":{
    "datalore":{
     "node_id":"cR6VomBKbrOmHj8FgiKrD3",
     "type":"CODE",
     "hide_input_from_viewers":true,
     "hide_output_from_viewers":true
    }
   }
  }
 ],
 "metadata":{
  "kernelspec":{
   "display_name":"Python",
   "language":"python",
   "name":"python"
  },
  "datalore":{
   "computation_mode":"JUPYTER",
   "packages":[
    
   ],
   "report_row_ids":[
    
   ],
   "version":3
  }
 },
 "nbformat":4,
 "nbformat_minor":4
}