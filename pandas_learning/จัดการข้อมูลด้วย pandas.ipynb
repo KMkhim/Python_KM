{
 "cells": [
  {
   "cell_type": "markdown",
   "id": "c4b0f709",
   "metadata": {},
   "source": [
    "<h3>Workshop 1: สร้างข้อมูลด้วย Series จาก List และ Tuple </h3>"
   ]
  },
  {
   "cell_type": "code",
   "execution_count": 20,
   "id": "d3443ae2",
   "metadata": {},
   "outputs": [],
   "source": [
    "import pandas as pd"
   ]
  },
  {
   "cell_type": "code",
   "execution_count": 4,
   "id": "2ad24825",
   "metadata": {},
   "outputs": [
    {
     "data": {
      "text/plain": [
       "0      15\n",
       "1    12.5\n",
       "2     Kbs\n",
       "3      22\n",
       "4     Jim\n",
       "dtype: object"
      ]
     },
     "execution_count": 4,
     "metadata": {},
     "output_type": "execute_result"
    }
   ],
   "source": [
    "ps = pd.Series([15,12.5,'Kbs',22,\"Jim\"])\n",
    "ps"
   ]
  },
  {
   "cell_type": "code",
   "execution_count": 6,
   "id": "50ef50a0",
   "metadata": {},
   "outputs": [
    {
     "data": {
      "text/plain": [
       "0      15\n",
       "1    12.5\n",
       "2     Kbs\n",
       "3      22\n",
       "4     Jim\n",
       "dtype: object"
      ]
     },
     "execution_count": 6,
     "metadata": {},
     "output_type": "execute_result"
    }
   ],
   "source": [
    "datas = (15,12.5,'Kbs',22,\"Jim\")\n",
    "pd.Series(datas)\n",
    "ps"
   ]
  },
  {
   "cell_type": "markdown",
   "id": "18fbe0f0",
   "metadata": {},
   "source": [
    "<h3>Workshop2 : สร้าง Series จาก Numpy</h3>"
   ]
  },
  {
   "cell_type": "code",
   "execution_count": 17,
   "id": "064a5206",
   "metadata": {},
   "outputs": [],
   "source": [
    "import numpy as np"
   ]
  },
  {
   "cell_type": "code",
   "execution_count": 21,
   "id": "76b69b37",
   "metadata": {},
   "outputs": [
    {
     "data": {
      "text/plain": [
       "0    k\n",
       "1    h\n",
       "dtype: object"
      ]
     },
     "execution_count": 21,
     "metadata": {},
     "output_type": "execute_result"
    }
   ],
   "source": [
    "datas = [\"k\",\"h\"]\n",
    "ndata = np.array(datas)\n",
    "ps = pd.Series(ndata)\n",
    "ps"
   ]
  },
  {
   "cell_type": "markdown",
   "id": "6d30a6db",
   "metadata": {},
   "source": [
    "<h3>Workshop3 : สร้างข้อมูล Series แบบ กำหนด Index</h3>"
   ]
  },
  {
   "cell_type": "code",
   "execution_count": 22,
   "id": "c05191c0",
   "metadata": {},
   "outputs": [
    {
     "data": {
      "text/plain": [
       "num1     khim\n",
       "num2    khim2\n",
       "num3    khim3\n",
       "dtype: object"
      ]
     },
     "execution_count": 22,
     "metadata": {},
     "output_type": "execute_result"
    }
   ],
   "source": [
    "datas = [\"khim\",\"khim2\",\"khim3\"]\n",
    "idx = [\"num1\",\"num2\",\"num3\"]\n",
    "ps = pd.Series(datas,index=idx)\n",
    "ps"
   ]
  },
  {
   "cell_type": "code",
   "execution_count": 23,
   "id": "20f6dae3",
   "metadata": {},
   "outputs": [
    {
     "data": {
      "text/plain": [
       "num1     khim\n",
       "num2    khim2\n",
       "num3    khim3\n",
       "dtype: object"
      ]
     },
     "execution_count": 23,
     "metadata": {},
     "output_type": "execute_result"
    }
   ],
   "source": [
    "ps = pd.Series(np.array(datas),index = idx)\n",
    "ps"
   ]
  },
  {
   "cell_type": "code",
   "execution_count": null,
   "id": "bb8bb43f",
   "metadata": {},
   "outputs": [],
   "source": []
  }
 ],
 "metadata": {
  "kernelspec": {
   "display_name": "Python 3 (ipykernel)",
   "language": "python",
   "name": "python3"
  },
  "language_info": {
   "codemirror_mode": {
    "name": "ipython",
    "version": 3
   },
   "file_extension": ".py",
   "mimetype": "text/x-python",
   "name": "python",
   "nbconvert_exporter": "python",
   "pygments_lexer": "ipython3",
   "version": "3.11.5"
  }
 },
 "nbformat": 4,
 "nbformat_minor": 5
}
