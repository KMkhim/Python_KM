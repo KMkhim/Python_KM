{
 "cells":[
  {
   "cell_type":"markdown",
   "source":[
    "# List"
   ],
   "attachments":{
    
   },
   "metadata":{
    "datalore":{
     "node_id":"List",
     "type":"MD",
     "hide_input_from_viewers":false,
     "hide_output_from_viewers":false,
     "sheet_delimiter":true
    }
   }
  },
  {
   "cell_type":"markdown",
   "source":[
    "<h1> LIST <\/h1>\n",
    "    <h4> การนิยาม \/ constructor <\/h4>\n",
    "    <h4> การเข้าถึงข้อมูลเดี่ยว \/ ช่วง <\/h4>\n",
    "    <h4> การแก้ไขข้อมูล <\/h4>\n",
    "    <h4> การแสดงผลด้วย loop <\/h4>\n",
    "    <h4> การตรวจสอบข้อมูล <\/h4>\n",
    "    <h4> การนับจำนวนสมาชิก <\/h4>\n",
    "    <h4> len ทำงานกับ for loop <\/h4>\n",
    "    <h4> การเพิ่มข้อมูล <\/h4>\n",
    "        <p> .append() <\/p>\n",
    "        <p> .insert() <\/p>\n",
    "    <h4> การลบข้อมูล <\/h4>\n",
    "        <p> .remove() <\/p>\n",
    "        <p>  .pop() <\/p>\n",
    "        <p>  del name_List[] \/ del name_List <\/p>\n",
    "        <p> .clear() <\/p>\n",
    "    <h4> การคัดลอกข้อมูล  <\/h4>\n",
    "        <p> list1 = list2.copy() <\/p>\n",
    "    <h4> การรวมข้อมูล  <\/h4>\n",
    "        <p> list1 + list2 <\/p>\n",
    "        <p> .extend() <\/p>\n",
    "    <h4> การนับจำนวนสมาชิก  <\/h4>\n",
    "        <p> .count() <\/p>\n",
    "    <h4> sort <\/h4>\n",
    "    "
   ],
   "attachments":{
    
   },
   "metadata":{
    "datalore":{
     "node_id":"eGKKGqKOYyoirWyA7zifSZ",
     "type":"MD",
     "hide_input_from_viewers":true,
     "hide_output_from_viewers":true
    }
   }
  },
  {
   "cell_type":"markdown",
   "source":[
    "<h4> การนิยาม <\/h4>"
   ],
   "attachments":{
    
   },
   "metadata":{
    "datalore":{
     "node_id":"JrycHXp6Tq3w1HAd9qipIH",
     "type":"MD",
     "hide_input_from_viewers":true,
     "hide_output_from_viewers":true
    }
   }
  },
  {
   "cell_type":"code",
   "source":[
    "\n",
    "number = [] #empty list\n",
    "number = [1, 2, 3, 4, 5, 6] #list มีสมาชิก 1-6\n",
    "name = [\"A\" , \"B\" , \"C\"] # list name มีสมาชิกเป็น string\n",
    "all = [10, \"A\", True, 3.14, -10] #คละกัน"
   ],
   "execution_count":1,
   "outputs":[
    
   ],
   "metadata":{
    "datalore":{
     "node_id":"1v4a93gFsOdl9RawLaH1df",
     "type":"CODE",
     "hide_input_from_viewers":true,
     "hide_output_from_viewers":true
    }
   }
  },
  {
   "cell_type":"markdown",
   "source":[
    "<h4> constructor <\/h4>"
   ],
   "attachments":{
    
   },
   "metadata":{
    "datalore":{
     "node_id":"oi5oyV7p13f789YsvXcYXH",
     "type":"MD",
     "hide_input_from_viewers":true,
     "hide_output_from_viewers":true
    }
   }
  },
  {
   "cell_type":"code",
   "source":[
    "name2 = list([\"A\" , \"B\" , \"C\"])"
   ],
   "execution_count":2,
   "outputs":[
    
   ],
   "metadata":{
    "datalore":{
     "node_id":"8PGbyiP5zCEoT5KScxTuu2",
     "type":"CODE",
     "hide_input_from_viewers":true,
     "hide_output_from_viewers":true
    }
   }
  },
  {
   "cell_type":"code",
   "source":[
    "\n",
    "print(number , type(number))\n",
    "print(name , type(name)) \n",
    "print(all , type(all))\n",
    "print(name2 , type(name2))\n",
    " "
   ],
   "execution_count":3,
   "outputs":[
    {
     "name":"stdout",
     "text":[
      "[1, 2, 3, 4, 5, 6] <class 'list'>\n",
      "['A', 'B', 'C'] <class 'list'>\n",
      "[10, 'A', True, 3.14, -10] <class 'list'>\n",
      "['A', 'B', 'C'] <class 'list'>\n"
     ],
     "output_type":"stream"
    }
   ],
   "metadata":{
    "datalore":{
     "node_id":"JV3t1QYJ1e2hVUttuy3CdS",
     "type":"CODE",
     "hide_input_from_viewers":true,
     "hide_output_from_viewers":true
    }
   }
  },
  {
   "cell_type":"markdown",
   "source":[
    "<h4> การเข้าถึงข้อมูล แบบเดี่ยว และ ช่วง <\/h4>"
   ],
   "attachments":{
    
   },
   "metadata":{
    "datalore":{
     "node_id":"KGu0azkfJRLzgpiP81m7S3",
     "type":"MD",
     "hide_input_from_viewers":true,
     "hide_output_from_viewers":true
    }
   }
  },
  {
   "cell_type":"code",
   "source":[
    "number = [1, 2, 3, 4, 5, 6]"
   ],
   "execution_count":4,
   "outputs":[
    
   ],
   "metadata":{
    "datalore":{
     "node_id":"Y9ja9APvPdIdJr6P838YYT",
     "type":"CODE",
     "hide_input_from_viewers":true,
     "hide_output_from_viewers":true
    }
   }
  },
  {
   "cell_type":"code",
   "source":[
    "#แบบเดี่ยว\n",
    "print(number[0]) \n",
    "print(number[2]) \n",
    "print(number[0] + number[2])"
   ],
   "execution_count":5,
   "outputs":[
    {
     "name":"stdout",
     "text":[
      "1\n",
      "3\n",
      "4\n"
     ],
     "output_type":"stream"
    }
   ],
   "metadata":{
    "datalore":{
     "node_id":"aUAzJuu8liWgq5wgT5zr7V",
     "type":"CODE",
     "hide_input_from_viewers":true,
     "hide_output_from_viewers":true
    }
   }
  },
  {
   "cell_type":"code",
   "source":[
    "all = [10, \"A\", True, 3.14, -10]"
   ],
   "execution_count":null,
   "outputs":[
    
   ],
   "metadata":{
    "datalore":{
     "node_id":"1qnVuzm8jotFDwd4d2PGTj",
     "type":"CODE",
     "hide_input_from_viewers":true,
     "hide_output_from_viewers":true
    }
   }
  },
  {
   "cell_type":"markdown",
   "source":[
    "<p>list &nbsp; 1 &nbsp;&nbsp;&nbsp;&nbsp; 2 &nbsp;&nbsp;&nbsp; 3  &nbsp;&nbsp;&nbsp;4 &nbsp;&nbsp; 5 <\/p>\n",
    "\n",
    "<p>&nbsp;&nbsp;&nbsp;&nbsp;&nbsp;&nbsp;&nbsp;&nbsp;0&nbsp;&nbsp;&nbsp;&nbsp&nbsp;&nbsp;1&nbsp;&nbsp;&nbsp;&nbsp;  2 &nbsp;&nbsp;&nbsp;3 &nbsp;&nbsp; 4 <\/p>\n",
    "<p>&nbsp; &nbsp;&nbsp;&nbsp;&nbsp;&nbsp;-5 &nbsp;&nbsp;&nbsp;-4&nbsp; -3&nbsp; &nbsp;-2 &nbsp;-1   <\/p>"
   ],
   "attachments":{
    
   },
   "metadata":{
    "datalore":{
     "node_id":"wl0l6HOyDiqmCiqkhopIuK",
     "type":"MD",
     "hide_input_from_viewers":true,
     "hide_output_from_viewers":true
    }
   }
  },
  {
   "cell_type":"code",
   "source":[
    "#แบบช่วง\n",
    "print(all[1:3]) \n",
    "print(all[1:4])\n",
    "print(all[-3:-1]) "
   ],
   "execution_count":null,
   "outputs":[
    
   ],
   "metadata":{
    "datalore":{
     "node_id":"yv44eN87dicI1PI5eEgvua",
     "type":"CODE",
     "hide_input_from_viewers":true,
     "hide_output_from_viewers":true
    }
   }
  },
  {
   "cell_type":"markdown",
   "source":[
    "<h4>การแก้ไขข้อมูล <\/h4>\n",
    "ชื่อตัวแปร [index] = \"ข้อมูลที่ต้องการแก้ไข\""
   ],
   "attachments":{
    
   },
   "metadata":{
    "datalore":{
     "node_id":"RyMg3qAWa1X07onN4bo11X",
     "type":"MD",
     "hide_input_from_viewers":true,
     "hide_output_from_viewers":true
    }
   }
  },
  {
   "cell_type":"code",
   "source":[
    "\n",
    "number = [1, 2, 3, 4, 5, 6]\n",
    "print(\"number[2] Before : \" , number[2]) "
   ],
   "execution_count":7,
   "outputs":[
    {
     "name":"stdout",
     "text":[
      "number[2] Before :  3\n"
     ],
     "output_type":"stream"
    }
   ],
   "metadata":{
    "datalore":{
     "node_id":"2LgiGqyWZKa7CEvqOHSuwD",
     "type":"CODE",
     "hide_input_from_viewers":true,
     "hide_output_from_viewers":true
    }
   }
  },
  {
   "cell_type":"code",
   "source":[
    "number[2] =  9 \n",
    "number[-1] = \"A\"\n",
    "print(\"number[2] after : \" , number[2]) "
   ],
   "execution_count":8,
   "outputs":[
    {
     "name":"stdout",
     "text":[
      "number[2] after :  9\n"
     ],
     "output_type":"stream"
    }
   ],
   "metadata":{
    "datalore":{
     "node_id":"caJreAe2LBn8Tbrzs1X3cm",
     "type":"CODE",
     "hide_input_from_viewers":true,
     "hide_output_from_viewers":true
    }
   }
  },
  {
   "cell_type":"markdown",
   "source":[
    "<h4>การแสดงผลด้วย loop<\/h4>"
   ],
   "attachments":{
    
   },
   "metadata":{
    "datalore":{
     "node_id":"PHA7jOcBMRXGQvayylQgJ9",
     "type":"MD",
     "hide_input_from_viewers":true,
     "hide_output_from_viewers":true
    }
   }
  },
  {
   "cell_type":"code",
   "source":[
    "number = [1, 2, 3, 4, 5, 6]\n",
    "sum = 0 \n",
    "\n",
    "for x in number:\n",
    "    sum += x\n",
    "    print(\"สมาชิก :\" , x) \n",
    "print(\"sum is : \" , sum )"
   ],
   "execution_count":1,
   "outputs":[
    {
     "name":"stdout",
     "text":[
      "สมาชิก : 1\n",
      "สมาชิก : 2\n",
      "สมาชิก : 3\n",
      "สมาชิก : 4\n",
      "สมาชิก : 5\n",
      "สมาชิก : 6\n",
      "sum is :  21\n"
     ],
     "output_type":"stream"
    }
   ],
   "metadata":{
    "datalore":{
     "node_id":"VUKz40pcommfs6vcryYTVc",
     "type":"CODE",
     "hide_input_from_viewers":true,
     "hide_output_from_viewers":true
    }
   }
  },
  {
   "cell_type":"markdown",
   "source":[
    "<h4> การตรวจสอบสมาชิก <\/h4>"
   ],
   "attachments":{
    
   },
   "metadata":{
    "datalore":{
     "node_id":"QXPSvWpTILaCGtyWqA4HxS",
     "type":"MD",
     "hide_input_from_viewers":true,
     "hide_output_from_viewers":true
    }
   }
  },
  {
   "cell_type":"code",
   "source":[
    "fruit = list([\"mango\" , \"tomato\" , \"orange\"])\n",
    "\n",
    "if 20 in number :\n",
    "    print(\"true\")\n",
    "else : \n",
    "    print(\"false\") #false"
   ],
   "execution_count":3,
   "outputs":[
    {
     "name":"stdout",
     "text":[
      "false\n"
     ],
     "output_type":"stream"
    }
   ],
   "metadata":{
    "datalore":{
     "node_id":"fWwONKBO54OZTC8qqWackM",
     "type":"CODE",
     "hide_input_from_viewers":true,
     "hide_output_from_viewers":true
    }
   }
  },
  {
   "cell_type":"code",
   "source":[
    "if \"tomato\" in fruit:\n",
    "    print(\"true\")\n",
    "else : \n",
    "    print(\"false\") #true"
   ],
   "execution_count":4,
   "outputs":[
    {
     "name":"stdout",
     "text":[
      "true\n"
     ],
     "output_type":"stream"
    }
   ],
   "metadata":{
    "datalore":{
     "node_id":"oomptuiEHsHRhNMqfTqyS6",
     "type":"CODE",
     "hide_input_from_viewers":true,
     "hide_output_from_viewers":true
    }
   }
  },
  {
   "cell_type":"markdown",
   "source":[
    "<h4> การนับจำนวนสมาชิก len  <\/h4>"
   ],
   "attachments":{
    
   },
   "metadata":{
    "datalore":{
     "node_id":"WvULyxaLKwp9cTTbJpt8e6",
     "type":"MD",
     "hide_input_from_viewers":true,
     "hide_output_from_viewers":true
    }
   }
  },
  {
   "cell_type":"code",
   "source":[
    "fruit = list([\"mango\" , \"tomato\" , \"orange\"])\n",
    "number = [1, 2, 3, 4, 5, 6]\n",
    "\n",
    "print(len(fruit))\n",
    "print(len(number))"
   ],
   "execution_count":7,
   "outputs":[
    {
     "name":"stdout",
     "text":[
      "3\n",
      "6\n"
     ],
     "output_type":"stream"
    }
   ],
   "metadata":{
    "datalore":{
     "node_id":"TAj5tZp57dfagUJWn1Vtjn",
     "type":"CODE",
     "hide_input_from_viewers":true,
     "hide_output_from_viewers":true
    }
   }
  },
  {
   "cell_type":"markdown",
   "source":[
    "<h4> len ทำงานร่วมกับ for loop <\/h4>"
   ],
   "attachments":{
    
   },
   "metadata":{
    "datalore":{
     "node_id":"pipSWQD0NO0Nw0IHqD1axH",
     "type":"MD",
     "hide_input_from_viewers":true,
     "hide_output_from_viewers":true
    }
   }
  },
  {
   "cell_type":"code",
   "source":[
    "fruit = list([\"mango\" , \"tomato\" , \"orange\"])"
   ],
   "execution_count":null,
   "outputs":[
    
   ],
   "metadata":{
    "datalore":{
     "node_id":"msYDOdQRDSdUnINciMmLR2",
     "type":"CODE",
     "hide_input_from_viewers":true,
     "hide_output_from_viewers":true
    }
   }
  },
  {
   "cell_type":"code",
   "source":[
    "for i in range(len(fruit)) :\n",
    "    print(fruit[i])"
   ],
   "execution_count":8,
   "outputs":[
    {
     "name":"stdout",
     "text":[
      "mango\n",
      "tomato\n",
      "orange\n"
     ],
     "output_type":"stream"
    }
   ],
   "metadata":{
    "datalore":{
     "node_id":"dgGgrOp9H1l6qiJsXMXqqp",
     "type":"CODE",
     "hide_input_from_viewers":true,
     "hide_output_from_viewers":true
    }
   }
  },
  {
   "cell_type":"code",
   "source":[
    "for i in fruit :\n",
    "    print(i)"
   ],
   "execution_count":9,
   "outputs":[
    {
     "name":"stdout",
     "text":[
      "mango\n",
      "tomato\n",
      "orange\n"
     ],
     "output_type":"stream"
    }
   ],
   "metadata":{
    "datalore":{
     "node_id":"VASgJuKmM7vcKMPDBYvou9",
     "type":"CODE",
     "hide_input_from_viewers":true,
     "hide_output_from_viewers":true
    }
   }
  },
  {
   "cell_type":"markdown",
   "source":[
    "<h4> การเพิ่มข้อมูล => append , insert <\/h4>\n",
    "    <p> append  ข้อมูลต่อท้าย <\/p>\n",
    "    <p> insert  แทรกข้อมูล <\/p>"
   ],
   "attachments":{
    
   },
   "metadata":{
    "datalore":{
     "node_id":"xmE9cNV4napIEteTm5jhD3",
     "type":"MD",
     "hide_input_from_viewers":true,
     "hide_output_from_viewers":true
    }
   }
  },
  {
   "cell_type":"markdown",
   "source":[
    "<h5> .append() <\/h5>"
   ],
   "attachments":{
    
   },
   "metadata":{
    "datalore":{
     "node_id":"Yqu4pfYyGB7VSrGXLk9Imq",
     "type":"MD",
     "hide_input_from_viewers":true,
     "hide_output_from_viewers":true
    }
   }
  },
  {
   "cell_type":"code",
   "source":[
    "fruit = list([\"mango\" , \"tomato\" , \"orange\"])"
   ],
   "execution_count":15,
   "outputs":[
    
   ],
   "metadata":{
    "datalore":{
     "node_id":"kMpaLwaMjkkF15MjGq2Niy",
     "type":"CODE",
     "hide_input_from_viewers":true,
     "hide_output_from_viewers":true
    }
   }
  },
  {
   "cell_type":"code",
   "source":[
    "fruit.append(\"banana\")\n",
    "fruit.append(\"melon\")\n",
    "\n",
    "print(\"after add : \" , fruit)"
   ],
   "execution_count":16,
   "outputs":[
    {
     "name":"stdout",
     "text":[
      "after add :  ['mango', 'tomato', 'orange', 'banana', 'melon']\n"
     ],
     "output_type":"stream"
    }
   ],
   "metadata":{
    "datalore":{
     "node_id":"tJFaWOqYqrFStlzCOkxBCa",
     "type":"CODE",
     "hide_input_from_viewers":true,
     "hide_output_from_viewers":true
    }
   }
  },
  {
   "cell_type":"markdown",
   "source":[
    "<h5> .insert() <\/h5>"
   ],
   "attachments":{
    
   },
   "metadata":{
    "datalore":{
     "node_id":"X01xjiRwCWKg49acALwSVa",
     "type":"MD",
     "hide_input_from_viewers":true,
     "hide_output_from_viewers":true
    }
   }
  },
  {
   "cell_type":"code",
   "source":[
    "print(fruit)"
   ],
   "execution_count":17,
   "outputs":[
    {
     "name":"stdout",
     "text":[
      "['mango', 'tomato', 'orange', 'banana', 'melon']\n"
     ],
     "output_type":"stream"
    }
   ],
   "metadata":{
    "datalore":{
     "node_id":"RQ25ManuweJQCaoZY47S2Q",
     "type":"CODE",
     "hide_input_from_viewers":true,
     "hide_output_from_viewers":true
    }
   }
  },
  {
   "cell_type":"code",
   "source":[
    "fruit.insert(1, \"durian\")\n",
    "\n",
    "print(\"after add : \" , fruit)"
   ],
   "execution_count":27,
   "outputs":[
    {
     "name":"stdout",
     "text":[
      "after add :  ['mango', 'durian', 'durian', 'tomato', 'orange', 'banana', 'melon']\n"
     ],
     "output_type":"stream"
    }
   ],
   "metadata":{
    "datalore":{
     "node_id":"5kjR8YZ0peVB95ifYHikU7",
     "type":"CODE",
     "hide_input_from_viewers":true,
     "hide_output_from_viewers":true
    }
   }
  },
  {
   "cell_type":"markdown",
   "source":[
    "<h4> การลบข้อมูล => remove , pop , del , clear <\/h4>"
   ],
   "attachments":{
    
   },
   "metadata":{
    "datalore":{
     "node_id":"K6oLCuBnU6uqarw5v6FtqL",
     "type":"MD",
     "hide_input_from_viewers":true,
     "hide_output_from_viewers":true
    }
   }
  },
  {
   "cell_type":"code",
   "source":[
    "print(fruit)"
   ],
   "execution_count":28,
   "outputs":[
    {
     "name":"stdout",
     "text":[
      "['mango', 'durian', 'durian', 'tomato', 'orange', 'banana', 'melon']\n"
     ],
     "output_type":"stream"
    }
   ],
   "metadata":{
    "datalore":{
     "node_id":"oa1YfiSBrNGKJcTgfGqT0s",
     "type":"CODE",
     "hide_input_from_viewers":true,
     "hide_output_from_viewers":true
    }
   }
  },
  {
   "cell_type":"code",
   "source":[
    "fruit.remove(\"durian\")\n",
    "print(\"after remove : \" , fruit)"
   ],
   "execution_count":29,
   "outputs":[
    {
     "name":"stdout",
     "text":[
      "after remove :  ['mango', 'durian', 'tomato', 'orange', 'banana', 'melon']\n"
     ],
     "output_type":"stream"
    }
   ],
   "metadata":{
    "datalore":{
     "node_id":"abzKzIMDjbC3gNww9clXdd",
     "type":"CODE",
     "hide_input_from_viewers":true,
     "hide_output_from_viewers":true
    }
   }
  },
  {
   "cell_type":"code",
   "source":[
    "fruit.pop()\n",
    "print(\"after pop : \" , fruit)"
   ],
   "execution_count":30,
   "outputs":[
    {
     "name":"stdout",
     "text":[
      "after pop :  ['mango', 'durian', 'tomato', 'orange', 'banana']\n"
     ],
     "output_type":"stream"
    }
   ],
   "metadata":{
    "datalore":{
     "node_id":"Bu1UE2MnCnc87t7UvguKDa",
     "type":"CODE",
     "hide_input_from_viewers":true,
     "hide_output_from_viewers":true
    }
   }
  },
  {
   "cell_type":"code",
   "source":[
    "del fruit[1]\n",
    "print(\"after del : \" , fruit)"
   ],
   "execution_count":31,
   "outputs":[
    {
     "name":"stdout",
     "text":[
      "after del :  ['mango', 'tomato', 'orange', 'banana']\n"
     ],
     "output_type":"stream"
    }
   ],
   "metadata":{
    "datalore":{
     "node_id":"3uSXbv3Tpiy7hIT9zdMKro",
     "type":"CODE",
     "hide_input_from_viewers":true,
     "hide_output_from_viewers":true
    }
   }
  },
  {
   "cell_type":"code",
   "source":[
    "fruit.clear()\n",
    "print(fruit)"
   ],
   "execution_count":32,
   "outputs":[
    {
     "name":"stdout",
     "text":[
      "[]\n"
     ],
     "output_type":"stream"
    }
   ],
   "metadata":{
    "datalore":{
     "node_id":"fhbJscaahsXF9YD6t8lFZN",
     "type":"CODE",
     "hide_input_from_viewers":true,
     "hide_output_from_viewers":true
    }
   }
  },
  {
   "cell_type":"code",
   "source":[
    "del fruit #ลบยันตัวแปร\n",
    "print(fruit) "
   ],
   "execution_count":33,
   "outputs":[
    
   ],
   "metadata":{
    "datalore":{
     "node_id":"blmoEouZKxKLLjsBNLxRO8",
     "type":"CODE",
     "hide_input_from_viewers":true,
     "hide_output_from_viewers":true
    }
   }
  },
  {
   "cell_type":"markdown",
   "source":[
    "<h4> การคัดลอกข้อมูล <\/h4>\n",
    "<h5> .copy() <\/h5>"
   ],
   "attachments":{
    
   },
   "metadata":{
    "datalore":{
     "node_id":"QdBqt1aHSVSaRnhZ5WfnVQ",
     "type":"MD",
     "hide_input_from_viewers":true,
     "hide_output_from_viewers":true
    }
   }
  },
  {
   "cell_type":"code",
   "source":[
    "number = [1, 2, 3, 4, 5, 6, 7, 8, 9, 10]\n",
    "fruit = [\"mango\" , \"orange\" , \"tomato\"]"
   ],
   "execution_count":34,
   "outputs":[
    
   ],
   "metadata":{
    "datalore":{
     "node_id":"BaEjbIUqCHikpySHSIOg2Q",
     "type":"CODE",
     "hide_input_from_viewers":true,
     "hide_output_from_viewers":true
    }
   }
  },
  {
   "cell_type":"code",
   "source":[
    "x = fruit.copy()\n",
    "print(x)"
   ],
   "execution_count":35,
   "outputs":[
    {
     "name":"stdout",
     "text":[
      "['mango', 'orange', 'tomato']\n"
     ],
     "output_type":"stream"
    }
   ],
   "metadata":{
    "datalore":{
     "node_id":"oQY4OEJSW6TYXFBbsDrGXC",
     "type":"CODE",
     "hide_input_from_viewers":true,
     "hide_output_from_viewers":true
    }
   }
  },
  {
   "cell_type":"markdown",
   "source":[
    "<h4> การรวมข้อมูล <\/h4>"
   ],
   "attachments":{
    
   },
   "metadata":{
    "datalore":{
     "node_id":"odOVd8sSepjiszYyFadcta",
     "type":"MD",
     "hide_input_from_viewers":true,
     "hide_output_from_viewers":true
    }
   }
  },
  {
   "cell_type":"code",
   "source":[
    "allGroup = number + fruit\n",
    "print(allGroup)"
   ],
   "execution_count":36,
   "outputs":[
    {
     "name":"stdout",
     "text":[
      "[1, 2, 3, 4, 5, 6, 7, 8, 9, 10, 'mango', 'orange', 'tomato']\n"
     ],
     "output_type":"stream"
    }
   ],
   "metadata":{
    "datalore":{
     "node_id":"wrjiKXZNFuRvLd0Pn69z8O",
     "type":"CODE",
     "hide_input_from_viewers":true,
     "hide_output_from_viewers":true
    }
   }
  },
  {
   "cell_type":"code",
   "source":[
    "number.extend(fruit)\n",
    "print(number)"
   ],
   "execution_count":37,
   "outputs":[
    {
     "name":"stdout",
     "text":[
      "[1, 2, 3, 4, 5, 6, 7, 8, 9, 10, 'mango', 'orange', 'tomato']\n"
     ],
     "output_type":"stream"
    }
   ],
   "metadata":{
    "datalore":{
     "node_id":"VO7Uq7SRev54nSDjrrWkqo",
     "type":"CODE",
     "hide_input_from_viewers":true,
     "hide_output_from_viewers":true
    }
   }
  },
  {
   "cell_type":"markdown",
   "source":[
    "<h4> การนับจำนวนสมาชิก <\/h4>"
   ],
   "attachments":{
    
   },
   "metadata":{
    "datalore":{
     "node_id":"YXBepoulqO3glQsjlrGYNB",
     "type":"MD",
     "hide_input_from_viewers":true,
     "hide_output_from_viewers":true
    }
   }
  },
  {
   "cell_type":"code",
   "source":[
    "number = [1, 2, 3, 4, 5, 6, 7, 5, 5, 5]\n",
    "x = number.count(5)\n",
    "print(x)"
   ],
   "execution_count":38,
   "outputs":[
    {
     "name":"stdout",
     "text":[
      "4\n"
     ],
     "output_type":"stream"
    }
   ],
   "metadata":{
    "datalore":{
     "node_id":"0ydGQ7yYZxlB7UIDoiRCKz",
     "type":"CODE",
     "hide_input_from_viewers":true,
     "hide_output_from_viewers":true
    }
   }
  },
  {
   "cell_type":"markdown",
   "source":[
    "<h4> sort string <\/h4>"
   ],
   "attachments":{
    
   },
   "metadata":{
    "datalore":{
     "node_id":"P39pcmmrDe4qb2okfh03gG",
     "type":"MD",
     "hide_input_from_viewers":true,
     "hide_output_from_viewers":true
    }
   }
  },
  {
   "cell_type":"code",
   "source":[
    "student = list([\"khim\", \"prawta\" , \"Andy\" ,\"andy \", \"nick\"])\n",
    "\n",
    "student.sort()\n",
    "\n",
    "print(student)"
   ],
   "execution_count":1,
   "outputs":[
    {
     "name":"stdout",
     "text":[
      "['Andy', 'andy ', 'khim', 'nick', 'prawta']\n"
     ],
     "output_type":"stream"
    }
   ],
   "metadata":{
    "datalore":{
     "node_id":"iPqzOahGvR7OoB2A5TX8YM",
     "type":"CODE",
     "hide_input_from_viewers":true,
     "hide_output_from_viewers":true
    }
   }
  },
  {
   "cell_type":"markdown",
   "source":[
    "เรียงจากหลัง => หน้า"
   ],
   "attachments":{
    
   },
   "metadata":{
    "datalore":{
     "node_id":"hBOdZMY4FtR5Os6nBx5Mbb",
     "type":"MD",
     "hide_input_from_viewers":true,
     "hide_output_from_viewers":true
    }
   }
  },
  {
   "cell_type":"code",
   "source":[
    "student = student[::-1] \n",
    "print(student)"
   ],
   "execution_count":2,
   "outputs":[
    {
     "name":"stdout",
     "text":[
      "['prawta', 'nick', 'khim', 'andy ', 'Andy']\n"
     ],
     "output_type":"stream"
    }
   ],
   "metadata":{
    "datalore":{
     "node_id":"3GmcfgspUwwFvlwLWrOyVo",
     "type":"CODE",
     "hide_input_from_viewers":true,
     "hide_output_from_viewers":true
    }
   }
  },
  {
   "cell_type":"code",
   "source":[
    "student.reverse()\n",
    "print(student)"
   ],
   "execution_count":3,
   "outputs":[
    {
     "name":"stdout",
     "text":[
      "['Andy', 'andy ', 'khim', 'nick', 'prawta']\n"
     ],
     "output_type":"stream"
    }
   ],
   "metadata":{
    "datalore":{
     "node_id":"6dNM6gZoSJAj94bPK9N4kf",
     "type":"CODE",
     "hide_input_from_viewers":true,
     "hide_output_from_viewers":true
    }
   }
  }
 ],
 "metadata":{
  "kernelspec":{
   "display_name":"Python",
   "language":"python",
   "name":"python"
  },
  "datalore":{
   "computation_mode":"JUPYTER",
   "package_manager":"pip",
   "base_environment":"default",
   "packages":[
    
   ],
   "report_row_ids":[
    
   ],
   "version":3
  }
 },
 "nbformat":4,
 "nbformat_minor":4
}