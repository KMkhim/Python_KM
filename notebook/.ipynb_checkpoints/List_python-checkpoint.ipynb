{
 "cells": [
  {
   "cell_type": "markdown",
   "metadata": {
    "datalore": {
     "hide_input_from_viewers": false,
     "hide_output_from_viewers": false,
     "node_id": "List",
     "sheet_delimiter": true,
     "type": "MD"
    }
   },
   "source": [
    "# List"
   ]
  },
  {
   "cell_type": "markdown",
   "metadata": {
    "datalore": {
     "hide_input_from_viewers": true,
     "hide_output_from_viewers": true,
     "node_id": "eGKKGqKOYyoirWyA7zifSZ",
     "type": "MD"
    }
   },
   "source": [
    "<h1> LIST </h1>\n",
    "    <h4> การนิยาม / constructor </h4>\n",
    "    <h4> การเข้าถึงข้อมูลเดี่ยว / ช่วง </h4>\n",
    "    <h4> การแก้ไขข้อมูล </h4>\n",
    "    <h4> การแสดงผลด้วย loop </h4>\n",
    "    <h4> การตรวจสอบข้อมูล </h4>\n",
    "    <h4> การนับจำนวนสมาชิก </h4>\n",
    "    <h4> len ทำงานกับ for loop </h4>\n",
    "    <h4> การเพิ่มข้อมูล </h4>\n",
    "        <p> .append() </p>\n",
    "        <p> .insert() </p>\n",
    "    <h4> การลบข้อมูล </h4>\n",
    "        <p> .remove() </p>\n",
    "        <p>  .pop() </p>\n",
    "        <p>  del name_List[] / del name_List </p>\n",
    "        <p> .clear() </p>\n",
    "    <h4> การคัดลอกข้อมูล  </h4>\n",
    "        <p> list1 = list2.copy() </p>\n",
    "    <h4> การรวมข้อมูล  </h4>\n",
    "        <p> list1 + list2 </p>\n",
    "        <p> .extend() </p>\n",
    "    <h4> การนับจำนวนสมาชิก  </h4>\n",
    "        <p> .count() </p>\n",
    "    <h4> sort </h4>\n",
    "    "
   ]
  },
  {
   "cell_type": "markdown",
   "metadata": {
    "datalore": {
     "hide_input_from_viewers": true,
     "hide_output_from_viewers": true,
     "node_id": "JrycHXp6Tq3w1HAd9qipIH",
     "type": "MD"
    }
   },
   "source": [
    "<h4> การนิยาม </h4>"
   ]
  },
  {
   "cell_type": "code",
   "execution_count": 1,
   "metadata": {
    "datalore": {
     "hide_input_from_viewers": true,
     "hide_output_from_viewers": true,
     "node_id": "1v4a93gFsOdl9RawLaH1df",
     "type": "CODE"
    }
   },
   "outputs": [],
   "source": [
    "\n",
    "number = [] #empty list\n",
    "number = [1, 2, 3, 4, 5, 6] #list มีสมาชิก 1-6\n",
    "name = [\"A\" , \"B\" , \"C\"] # list name มีสมาชิกเป็น string\n",
    "all = [10, \"A\", True, 3.14, -10] #คละกัน"
   ]
  },
  {
   "cell_type": "markdown",
   "metadata": {
    "datalore": {
     "hide_input_from_viewers": true,
     "hide_output_from_viewers": true,
     "node_id": "oi5oyV7p13f789YsvXcYXH",
     "type": "MD"
    }
   },
   "source": [
    "<h4> constructor </h4>"
   ]
  },
  {
   "cell_type": "code",
   "execution_count": 2,
   "metadata": {
    "datalore": {
     "hide_input_from_viewers": true,
     "hide_output_from_viewers": true,
     "node_id": "8PGbyiP5zCEoT5KScxTuu2",
     "type": "CODE"
    }
   },
   "outputs": [],
   "source": [
    "name2 = list([\"A\" , \"B\" , \"C\"])"
   ]
  },
  {
   "cell_type": "code",
   "execution_count": 3,
   "metadata": {
    "datalore": {
     "hide_input_from_viewers": true,
     "hide_output_from_viewers": true,
     "node_id": "JV3t1QYJ1e2hVUttuy3CdS",
     "type": "CODE"
    }
   },
   "outputs": [
    {
     "name": "stdout",
     "output_type": "stream",
     "text": [
      "[1, 2, 3, 4, 5, 6] <class 'list'>\n",
      "['A', 'B', 'C'] <class 'list'>\n",
      "[10, 'A', True, 3.14, -10] <class 'list'>\n",
      "['A', 'B', 'C'] <class 'list'>\n"
     ]
    }
   ],
   "source": [
    "\n",
    "print(number , type(number))\n",
    "print(name , type(name)) \n",
    "print(all , type(all))\n",
    "print(name2 , type(name2))\n",
    " "
   ]
  },
  {
   "cell_type": "markdown",
   "metadata": {
    "datalore": {
     "hide_input_from_viewers": true,
     "hide_output_from_viewers": true,
     "node_id": "KGu0azkfJRLzgpiP81m7S3",
     "type": "MD"
    }
   },
   "source": [
    "<h4> การเข้าถึงข้อมูล แบบเดี่ยว และ ช่วง </h4>"
   ]
  },
  {
   "cell_type": "code",
   "execution_count": 4,
   "metadata": {
    "datalore": {
     "hide_input_from_viewers": true,
     "hide_output_from_viewers": true,
     "node_id": "Y9ja9APvPdIdJr6P838YYT",
     "type": "CODE"
    }
   },
   "outputs": [],
   "source": [
    "number = [1, 2, 3, 4, 5, 6]"
   ]
  },
  {
   "cell_type": "code",
   "execution_count": 5,
   "metadata": {
    "datalore": {
     "hide_input_from_viewers": true,
     "hide_output_from_viewers": true,
     "node_id": "aUAzJuu8liWgq5wgT5zr7V",
     "type": "CODE"
    }
   },
   "outputs": [
    {
     "name": "stdout",
     "output_type": "stream",
     "text": [
      "1\n",
      "3\n",
      "4\n"
     ]
    }
   ],
   "source": [
    "#แบบเดี่ยว\n",
    "print(number[0]) \n",
    "print(number[2]) \n",
    "print(number[0] + number[2])"
   ]
  },
  {
   "cell_type": "code",
   "execution_count": null,
   "metadata": {
    "datalore": {
     "hide_input_from_viewers": true,
     "hide_output_from_viewers": true,
     "node_id": "1qnVuzm8jotFDwd4d2PGTj",
     "type": "CODE"
    }
   },
   "outputs": [],
   "source": [
    "all = [10, \"A\", True, 3.14, -10]"
   ]
  },
  {
   "cell_type": "markdown",
   "metadata": {
    "datalore": {
     "hide_input_from_viewers": true,
     "hide_output_from_viewers": true,
     "node_id": "wl0l6HOyDiqmCiqkhopIuK",
     "type": "MD"
    }
   },
   "source": [
    "<p>list &nbsp; 1 &nbsp;&nbsp;&nbsp;&nbsp; 2 &nbsp;&nbsp;&nbsp; 3  &nbsp;&nbsp;&nbsp;4 &nbsp;&nbsp; 5 </p>\n",
    "\n",
    "<p>&nbsp;&nbsp;&nbsp;&nbsp;&nbsp;&nbsp;&nbsp;&nbsp;0&nbsp;&nbsp;&nbsp;&nbsp&nbsp;&nbsp;1&nbsp;&nbsp;&nbsp;&nbsp;  2 &nbsp;&nbsp;&nbsp;3 &nbsp;&nbsp; 4 </p>\n",
    "<p>&nbsp; &nbsp;&nbsp;&nbsp;&nbsp;&nbsp;-5 &nbsp;&nbsp;&nbsp;-4&nbsp; -3&nbsp; &nbsp;-2 &nbsp;-1   </p>"
   ]
  },
  {
   "cell_type": "code",
   "execution_count": null,
   "metadata": {
    "datalore": {
     "hide_input_from_viewers": true,
     "hide_output_from_viewers": true,
     "node_id": "yv44eN87dicI1PI5eEgvua",
     "type": "CODE"
    }
   },
   "outputs": [],
   "source": [
    "#แบบช่วง\n",
    "print(all[1:3]) \n",
    "print(all[1:4])\n",
    "print(all[-3:-1]) "
   ]
  },
  {
   "cell_type": "markdown",
   "metadata": {
    "datalore": {
     "hide_input_from_viewers": true,
     "hide_output_from_viewers": true,
     "node_id": "RyMg3qAWa1X07onN4bo11X",
     "type": "MD"
    }
   },
   "source": [
    "<h4>การแก้ไขข้อมูล </h4>\n",
    "ชื่อตัวแปร [index] = \"ข้อมูลที่ต้องการแก้ไข\""
   ]
  },
  {
   "cell_type": "code",
   "execution_count": 7,
   "metadata": {
    "datalore": {
     "hide_input_from_viewers": true,
     "hide_output_from_viewers": true,
     "node_id": "2LgiGqyWZKa7CEvqOHSuwD",
     "type": "CODE"
    }
   },
   "outputs": [
    {
     "name": "stdout",
     "output_type": "stream",
     "text": [
      "number[2] Before :  3\n"
     ]
    }
   ],
   "source": [
    "\n",
    "number = [1, 2, 3, 4, 5, 6]\n",
    "print(\"number[2] Before : \" , number[2]) "
   ]
  },
  {
   "cell_type": "code",
   "execution_count": 8,
   "metadata": {
    "datalore": {
     "hide_input_from_viewers": true,
     "hide_output_from_viewers": true,
     "node_id": "caJreAe2LBn8Tbrzs1X3cm",
     "type": "CODE"
    }
   },
   "outputs": [
    {
     "name": "stdout",
     "output_type": "stream",
     "text": [
      "number[2] after :  9\n"
     ]
    }
   ],
   "source": [
    "number[2] =  9 \n",
    "number[-1] = \"A\"\n",
    "print(\"number[2] after : \" , number[2]) "
   ]
  },
  {
   "cell_type": "markdown",
   "metadata": {
    "datalore": {
     "hide_input_from_viewers": true,
     "hide_output_from_viewers": true,
     "node_id": "PHA7jOcBMRXGQvayylQgJ9",
     "type": "MD"
    }
   },
   "source": [
    "<h4>การแสดงผลด้วย loop</h4>"
   ]
  },
  {
   "cell_type": "code",
   "execution_count": 1,
   "metadata": {
    "datalore": {
     "hide_input_from_viewers": true,
     "hide_output_from_viewers": true,
     "node_id": "VUKz40pcommfs6vcryYTVc",
     "type": "CODE"
    }
   },
   "outputs": [
    {
     "name": "stdout",
     "output_type": "stream",
     "text": [
      "สมาชิก : 1\n",
      "สมาชิก : 2\n",
      "สมาชิก : 3\n",
      "สมาชิก : 4\n",
      "สมาชิก : 5\n",
      "สมาชิก : 6\n",
      "sum is :  21\n"
     ]
    }
   ],
   "source": [
    "number = [1, 2, 3, 4, 5, 6]\n",
    "sum = 0 \n",
    "\n",
    "for x in number:\n",
    "    sum += x\n",
    "    print(\"สมาชิก :\" , x) \n",
    "print(\"sum is : \" , sum )"
   ]
  },
  {
   "cell_type": "markdown",
   "metadata": {
    "datalore": {
     "hide_input_from_viewers": true,
     "hide_output_from_viewers": true,
     "node_id": "QXPSvWpTILaCGtyWqA4HxS",
     "type": "MD"
    }
   },
   "source": [
    "<h4> การตรวจสอบสมาชิก </h4>"
   ]
  },
  {
   "cell_type": "code",
   "execution_count": 3,
   "metadata": {
    "datalore": {
     "hide_input_from_viewers": true,
     "hide_output_from_viewers": true,
     "node_id": "fWwONKBO54OZTC8qqWackM",
     "type": "CODE"
    }
   },
   "outputs": [
    {
     "name": "stdout",
     "output_type": "stream",
     "text": [
      "false\n"
     ]
    }
   ],
   "source": [
    "fruit = list([\"mango\" , \"tomato\" , \"orange\"])\n",
    "\n",
    "if 20 in number :\n",
    "    print(\"true\")\n",
    "else : \n",
    "    print(\"false\") #false"
   ]
  },
  {
   "cell_type": "code",
   "execution_count": 4,
   "metadata": {
    "datalore": {
     "hide_input_from_viewers": true,
     "hide_output_from_viewers": true,
     "node_id": "oomptuiEHsHRhNMqfTqyS6",
     "type": "CODE"
    }
   },
   "outputs": [
    {
     "name": "stdout",
     "output_type": "stream",
     "text": [
      "true\n"
     ]
    }
   ],
   "source": [
    "if \"tomato\" in fruit:\n",
    "    print(\"true\")\n",
    "else : \n",
    "    print(\"false\") #true"
   ]
  },
  {
   "cell_type": "markdown",
   "metadata": {
    "datalore": {
     "hide_input_from_viewers": true,
     "hide_output_from_viewers": true,
     "node_id": "WvULyxaLKwp9cTTbJpt8e6",
     "type": "MD"
    }
   },
   "source": [
    "<h4> การนับจำนวนสมาชิก len  </h4>"
   ]
  },
  {
   "cell_type": "code",
   "execution_count": 7,
   "metadata": {
    "datalore": {
     "hide_input_from_viewers": true,
     "hide_output_from_viewers": true,
     "node_id": "TAj5tZp57dfagUJWn1Vtjn",
     "type": "CODE"
    }
   },
   "outputs": [
    {
     "name": "stdout",
     "output_type": "stream",
     "text": [
      "3\n",
      "6\n"
     ]
    }
   ],
   "source": [
    "fruit = list([\"mango\" , \"tomato\" , \"orange\"])\n",
    "number = [1, 2, 3, 4, 5, 6]\n",
    "\n",
    "print(len(fruit))\n",
    "print(len(number))"
   ]
  },
  {
   "cell_type": "markdown",
   "metadata": {
    "datalore": {
     "hide_input_from_viewers": true,
     "hide_output_from_viewers": true,
     "node_id": "pipSWQD0NO0Nw0IHqD1axH",
     "type": "MD"
    }
   },
   "source": [
    "<h4> len ทำงานร่วมกับ for loop </h4>"
   ]
  },
  {
   "cell_type": "code",
   "execution_count": null,
   "metadata": {
    "datalore": {
     "hide_input_from_viewers": true,
     "hide_output_from_viewers": true,
     "node_id": "msYDOdQRDSdUnINciMmLR2",
     "type": "CODE"
    }
   },
   "outputs": [],
   "source": [
    "fruit = list([\"mango\" , \"tomato\" , \"orange\"])"
   ]
  },
  {
   "cell_type": "code",
   "execution_count": 8,
   "metadata": {
    "datalore": {
     "hide_input_from_viewers": true,
     "hide_output_from_viewers": true,
     "node_id": "dgGgrOp9H1l6qiJsXMXqqp",
     "type": "CODE"
    }
   },
   "outputs": [
    {
     "name": "stdout",
     "output_type": "stream",
     "text": [
      "mango\n",
      "tomato\n",
      "orange\n"
     ]
    }
   ],
   "source": [
    "for i in range(len(fruit)) :\n",
    "    print(fruit[i])"
   ]
  },
  {
   "cell_type": "code",
   "execution_count": 9,
   "metadata": {
    "datalore": {
     "hide_input_from_viewers": true,
     "hide_output_from_viewers": true,
     "node_id": "VASgJuKmM7vcKMPDBYvou9",
     "type": "CODE"
    }
   },
   "outputs": [
    {
     "name": "stdout",
     "output_type": "stream",
     "text": [
      "mango\n",
      "tomato\n",
      "orange\n"
     ]
    }
   ],
   "source": [
    "for i in fruit :\n",
    "    print(i)"
   ]
  },
  {
   "cell_type": "markdown",
   "metadata": {
    "datalore": {
     "hide_input_from_viewers": true,
     "hide_output_from_viewers": true,
     "node_id": "xmE9cNV4napIEteTm5jhD3",
     "type": "MD"
    }
   },
   "source": [
    "<h4> การเพิ่มข้อมูล => append , insert </h4>\n",
    "    <p> append  ข้อมูลต่อท้าย </p>\n",
    "    <p> insert  แทรกข้อมูล </p>"
   ]
  },
  {
   "cell_type": "markdown",
   "metadata": {
    "datalore": {
     "hide_input_from_viewers": true,
     "hide_output_from_viewers": true,
     "node_id": "Yqu4pfYyGB7VSrGXLk9Imq",
     "type": "MD"
    }
   },
   "source": [
    "<h5> .append() </h5>"
   ]
  },
  {
   "cell_type": "code",
   "execution_count": 3,
   "metadata": {
    "datalore": {
     "hide_input_from_viewers": true,
     "hide_output_from_viewers": true,
     "node_id": "kMpaLwaMjkkF15MjGq2Niy",
     "type": "CODE"
    }
   },
   "outputs": [],
   "source": [
    "fruit = list([\"mango\" , \"tomato\" , \"orange\"])"
   ]
  },
  {
   "cell_type": "code",
   "execution_count": 4,
   "metadata": {
    "datalore": {
     "hide_input_from_viewers": true,
     "hide_output_from_viewers": true,
     "node_id": "tJFaWOqYqrFStlzCOkxBCa",
     "type": "CODE"
    }
   },
   "outputs": [
    {
     "name": "stdout",
     "output_type": "stream",
     "text": [
      "after add :  ['mango', 'tomato', 'orange', 'banana', 'melon']\n"
     ]
    }
   ],
   "source": [
    "fruit.append(\"banana\")\n",
    "fruit.append(\"melon\")\n",
    "\n",
    "print(\"after add : \" , fruit)"
   ]
  },
  {
   "cell_type": "markdown",
   "metadata": {
    "datalore": {
     "hide_input_from_viewers": true,
     "hide_output_from_viewers": true,
     "node_id": "X01xjiRwCWKg49acALwSVa",
     "type": "MD"
    }
   },
   "source": [
    "<h5> .insert() </h5>"
   ]
  },
  {
   "cell_type": "code",
   "execution_count": 5,
   "metadata": {
    "datalore": {
     "hide_input_from_viewers": true,
     "hide_output_from_viewers": true,
     "node_id": "RQ25ManuweJQCaoZY47S2Q",
     "type": "CODE"
    }
   },
   "outputs": [
    {
     "name": "stdout",
     "output_type": "stream",
     "text": [
      "['mango', 'tomato', 'orange', 'banana', 'melon']\n"
     ]
    }
   ],
   "source": [
    "print(fruit)"
   ]
  },
  {
   "cell_type": "code",
   "execution_count": 6,
   "metadata": {
    "datalore": {
     "hide_input_from_viewers": true,
     "hide_output_from_viewers": true,
     "node_id": "5kjR8YZ0peVB95ifYHikU7",
     "type": "CODE"
    }
   },
   "outputs": [
    {
     "name": "stdout",
     "output_type": "stream",
     "text": [
      "after add :  ['mango', 'durian', 'tomato', 'orange', 'banana', 'melon']\n"
     ]
    }
   ],
   "source": [
    "fruit.insert(1, \"durian\")\n",
    "\n",
    "print(\"after add : \" , fruit)"
   ]
  },
  {
   "cell_type": "markdown",
   "metadata": {
    "datalore": {
     "hide_input_from_viewers": true,
     "hide_output_from_viewers": true,
     "node_id": "K6oLCuBnU6uqarw5v6FtqL",
     "type": "MD"
    }
   },
   "source": [
    "<h4> การลบข้อมูล => remove , pop , del , clear </h4>"
   ]
  },
  {
   "cell_type": "code",
   "execution_count": 7,
   "metadata": {
    "datalore": {
     "hide_input_from_viewers": true,
     "hide_output_from_viewers": true,
     "node_id": "oa1YfiSBrNGKJcTgfGqT0s",
     "type": "CODE"
    }
   },
   "outputs": [
    {
     "name": "stdout",
     "output_type": "stream",
     "text": [
      "['mango', 'durian', 'tomato', 'orange', 'banana', 'melon']\n"
     ]
    }
   ],
   "source": [
    "print(fruit)"
   ]
  },
  {
   "cell_type": "code",
   "execution_count": 8,
   "metadata": {
    "datalore": {
     "hide_input_from_viewers": true,
     "hide_output_from_viewers": true,
     "node_id": "abzKzIMDjbC3gNww9clXdd",
     "type": "CODE"
    }
   },
   "outputs": [
    {
     "name": "stdout",
     "output_type": "stream",
     "text": [
      "after remove :  ['mango', 'tomato', 'orange', 'banana', 'melon']\n"
     ]
    }
   ],
   "source": [
    "fruit.remove(\"durian\")\n",
    "print(\"after remove : \" , fruit)"
   ]
  },
  {
   "cell_type": "code",
   "execution_count": 9,
   "metadata": {
    "datalore": {
     "hide_input_from_viewers": true,
     "hide_output_from_viewers": true,
     "node_id": "Bu1UE2MnCnc87t7UvguKDa",
     "type": "CODE"
    }
   },
   "outputs": [
    {
     "name": "stdout",
     "output_type": "stream",
     "text": [
      "after pop :  ['mango', 'tomato', 'orange', 'banana']\n"
     ]
    }
   ],
   "source": [
    "fruit.pop()\n",
    "print(\"after pop : \" , fruit)"
   ]
  },
  {
   "cell_type": "code",
   "execution_count": 10,
   "metadata": {
    "datalore": {
     "hide_input_from_viewers": true,
     "hide_output_from_viewers": true,
     "node_id": "3uSXbv3Tpiy7hIT9zdMKro",
     "type": "CODE"
    }
   },
   "outputs": [
    {
     "name": "stdout",
     "output_type": "stream",
     "text": [
      "after del :  ['mango', 'orange', 'banana']\n"
     ]
    }
   ],
   "source": [
    "del fruit[1]\n",
    "print(\"after del : \" , fruit)"
   ]
  },
  {
   "cell_type": "code",
   "execution_count": 11,
   "metadata": {
    "datalore": {
     "hide_input_from_viewers": true,
     "hide_output_from_viewers": true,
     "node_id": "fhbJscaahsXF9YD6t8lFZN",
     "type": "CODE"
    }
   },
   "outputs": [
    {
     "name": "stdout",
     "output_type": "stream",
     "text": [
      "[]\n"
     ]
    }
   ],
   "source": [
    "fruit.clear()\n",
    "print(fruit)"
   ]
  },
  {
   "cell_type": "code",
   "execution_count": 12,
   "metadata": {
    "datalore": {
     "hide_input_from_viewers": true,
     "hide_output_from_viewers": true,
     "node_id": "blmoEouZKxKLLjsBNLxRO8",
     "type": "CODE"
    },
    "scrolled": true
   },
   "outputs": [
    {
     "ename": "NameError",
     "evalue": "name 'fruit' is not defined",
     "output_type": "error",
     "traceback": [
      "\u001b[0;31m---------------------------------------------------------------------------\u001b[0m",
      "\u001b[0;31mNameError\u001b[0m                                 Traceback (most recent call last)",
      "Cell \u001b[0;32mIn[12], line 2\u001b[0m\n\u001b[1;32m      1\u001b[0m \u001b[38;5;28;01mdel\u001b[39;00m fruit \u001b[38;5;66;03m#ลบยันตัวแปร\u001b[39;00m\n\u001b[0;32m----> 2\u001b[0m \u001b[38;5;28mprint\u001b[39m(fruit)\n",
      "\u001b[0;31mNameError\u001b[0m: name 'fruit' is not defined"
     ]
    }
   ],
   "source": [
    "del fruit #ลบยันตัวแปร\n",
    "print(fruit) "
   ]
  },
  {
   "cell_type": "markdown",
   "metadata": {
    "datalore": {
     "hide_input_from_viewers": true,
     "hide_output_from_viewers": true,
     "node_id": "QdBqt1aHSVSaRnhZ5WfnVQ",
     "type": "MD"
    }
   },
   "source": [
    "<h4> การคัดลอกข้อมูล </h4>\n",
    "<h5> .copy() </h5>"
   ]
  },
  {
   "cell_type": "code",
   "execution_count": 34,
   "metadata": {
    "datalore": {
     "hide_input_from_viewers": true,
     "hide_output_from_viewers": true,
     "node_id": "BaEjbIUqCHikpySHSIOg2Q",
     "type": "CODE"
    }
   },
   "outputs": [],
   "source": [
    "number = [1, 2, 3, 4, 5, 6, 7, 8, 9, 10]\n",
    "fruit = [\"mango\" , \"orange\" , \"tomato\"]"
   ]
  },
  {
   "cell_type": "code",
   "execution_count": 35,
   "metadata": {
    "datalore": {
     "hide_input_from_viewers": true,
     "hide_output_from_viewers": true,
     "node_id": "oQY4OEJSW6TYXFBbsDrGXC",
     "type": "CODE"
    }
   },
   "outputs": [
    {
     "name": "stdout",
     "output_type": "stream",
     "text": [
      "['mango', 'orange', 'tomato']\n"
     ]
    }
   ],
   "source": [
    "x = fruit.copy()\n",
    "print(x)"
   ]
  },
  {
   "cell_type": "markdown",
   "metadata": {
    "datalore": {
     "hide_input_from_viewers": true,
     "hide_output_from_viewers": true,
     "node_id": "odOVd8sSepjiszYyFadcta",
     "type": "MD"
    }
   },
   "source": [
    "<h4> การรวมข้อมูล </h4>"
   ]
  },
  {
   "cell_type": "code",
   "execution_count": 36,
   "metadata": {
    "datalore": {
     "hide_input_from_viewers": true,
     "hide_output_from_viewers": true,
     "node_id": "wrjiKXZNFuRvLd0Pn69z8O",
     "type": "CODE"
    }
   },
   "outputs": [
    {
     "name": "stdout",
     "output_type": "stream",
     "text": [
      "[1, 2, 3, 4, 5, 6, 7, 8, 9, 10, 'mango', 'orange', 'tomato']\n"
     ]
    }
   ],
   "source": [
    "allGroup = number + fruit\n",
    "print(allGroup)"
   ]
  },
  {
   "cell_type": "code",
   "execution_count": 37,
   "metadata": {
    "datalore": {
     "hide_input_from_viewers": true,
     "hide_output_from_viewers": true,
     "node_id": "VO7Uq7SRev54nSDjrrWkqo",
     "type": "CODE"
    }
   },
   "outputs": [
    {
     "name": "stdout",
     "output_type": "stream",
     "text": [
      "[1, 2, 3, 4, 5, 6, 7, 8, 9, 10, 'mango', 'orange', 'tomato']\n"
     ]
    }
   ],
   "source": [
    "number.extend(fruit)\n",
    "print(number)"
   ]
  },
  {
   "cell_type": "markdown",
   "metadata": {
    "datalore": {
     "hide_input_from_viewers": true,
     "hide_output_from_viewers": true,
     "node_id": "YXBepoulqO3glQsjlrGYNB",
     "type": "MD"
    }
   },
   "source": [
    "<h4> การนับจำนวนสมาชิก </h4>"
   ]
  },
  {
   "cell_type": "code",
   "execution_count": 38,
   "metadata": {
    "datalore": {
     "hide_input_from_viewers": true,
     "hide_output_from_viewers": true,
     "node_id": "0ydGQ7yYZxlB7UIDoiRCKz",
     "type": "CODE"
    }
   },
   "outputs": [
    {
     "name": "stdout",
     "output_type": "stream",
     "text": [
      "4\n"
     ]
    }
   ],
   "source": [
    "number = [1, 2, 3, 4, 5, 6, 7, 5, 5, 5]\n",
    "x = number.count(5)\n",
    "print(x)"
   ]
  },
  {
   "cell_type": "markdown",
   "metadata": {
    "datalore": {
     "hide_input_from_viewers": true,
     "hide_output_from_viewers": true,
     "node_id": "P39pcmmrDe4qb2okfh03gG",
     "type": "MD"
    }
   },
   "source": [
    "<h4> sort string </h4>"
   ]
  },
  {
   "cell_type": "code",
   "execution_count": 1,
   "metadata": {
    "datalore": {
     "hide_input_from_viewers": true,
     "hide_output_from_viewers": true,
     "node_id": "iPqzOahGvR7OoB2A5TX8YM",
     "type": "CODE"
    }
   },
   "outputs": [
    {
     "name": "stdout",
     "output_type": "stream",
     "text": [
      "['Andy', 'andy ', 'khim', 'nick', 'prawta']\n"
     ]
    }
   ],
   "source": [
    "student = list([\"khim\", \"prawta\" , \"Andy\" ,\"andy \", \"nick\"])\n",
    "\n",
    "student.sort()\n",
    "\n",
    "print(student)"
   ]
  },
  {
   "cell_type": "markdown",
   "metadata": {
    "datalore": {
     "hide_input_from_viewers": true,
     "hide_output_from_viewers": true,
     "node_id": "hBOdZMY4FtR5Os6nBx5Mbb",
     "type": "MD"
    }
   },
   "source": [
    "เรียงจากหลัง => หน้า"
   ]
  },
  {
   "cell_type": "code",
   "execution_count": 2,
   "metadata": {
    "datalore": {
     "hide_input_from_viewers": true,
     "hide_output_from_viewers": true,
     "node_id": "3GmcfgspUwwFvlwLWrOyVo",
     "type": "CODE"
    }
   },
   "outputs": [
    {
     "name": "stdout",
     "output_type": "stream",
     "text": [
      "['prawta', 'nick', 'khim', 'andy ', 'Andy']\n"
     ]
    }
   ],
   "source": [
    "student = student[::-1] \n",
    "print(student)"
   ]
  },
  {
   "cell_type": "code",
   "execution_count": 3,
   "metadata": {
    "datalore": {
     "hide_input_from_viewers": true,
     "hide_output_from_viewers": true,
     "node_id": "6dNM6gZoSJAj94bPK9N4kf",
     "type": "CODE"
    }
   },
   "outputs": [
    {
     "name": "stdout",
     "output_type": "stream",
     "text": [
      "['Andy', 'andy ', 'khim', 'nick', 'prawta']\n"
     ]
    }
   ],
   "source": [
    "student.reverse()\n",
    "print(student)"
   ]
  }
 ],
 "metadata": {
  "datalore": {
   "base_environment": "default",
   "computation_mode": "JUPYTER",
   "package_manager": "pip",
   "packages": [],
   "report_row_ids": [],
   "version": 3
  },
  "kernelspec": {
   "display_name": "Python 3 (ipykernel)",
   "language": "python",
   "name": "python3"
  },
  "language_info": {
   "codemirror_mode": {
    "name": "ipython",
    "version": 3
   },
   "file_extension": ".py",
   "mimetype": "text/x-python",
   "name": "python",
   "nbconvert_exporter": "python",
   "pygments_lexer": "ipython3",
   "version": "3.11.5"
  }
 },
 "nbformat": 4,
 "nbformat_minor": 4
}
