{
 "cells":[
  {
   "cell_type":"markdown",
   "source":[
    "# Dictionary\n",
    "<h4> การสร้าง dictionary <\/h4>\n",
    "<h5>name = {key : value, key : value, key : value} <\/h5>\n",
    "<h5> name = dict({key : value, key : value, key : value}) <\/h5>\n",
    "<h5>name = dict( key = value , key = value)<\/h5>\n",
    "<h5> ตั้ง key เป็น boolean <\/h5>\n",
    "\n",
    "<h4> การแก้ไขข้อมูล <\/h4>\n",
    "<h4>การเพิ่มข้อมูล <\/h4>\n",
    "<h4> for and dict <\/h4>\n",
    "<h5> for x in name_dict :   => x is keys<\/h5>\n",
    "<h5> for x in name_dict.keys() => x is values <\/h5>\n",
    "<h5> for x,y in name_dict.values() => x is keys , y is values <\/h5>\n",
    "<h4> ลบข้อมูล <\/h4>\n",
    "<h5> .pop() <\/h5>\n",
    "<h5> .popitems() => เอาตัวสุดท้ายออก  <\/h5>\n",
    "<h5> .clear() <\/h5>\n",
    "<h5> del name_dict <\/h5>\n",
    "\n",
    "<h4> คัดลอกข้อมูล <\/h4>\n",
    "<h5> .copy() <\/h5>\n",
    "\n",
    "<h4> dict in dict <\/h4>\n",
    " "
   ],
   "attachments":{
    
   },
   "metadata":{
    "datalore":{
     "node_id":"JPzm9XND8DbcI7GQNdH1AK",
     "type":"MD",
     "hide_input_from_viewers":true,
     "hide_output_from_viewers":true
    }
   }
  },
  {
   "cell_type":"markdown",
   "source":[
    "<h4> การสร้าง dictionary <\/h4>"
   ],
   "attachments":{
    
   },
   "metadata":{
    "datalore":{
     "node_id":"rdrOquOxdZcckriyzWyIMp",
     "type":"MD",
     "hide_input_from_viewers":true,
     "hide_output_from_viewers":true
    }
   }
  },
  {
   "cell_type":"markdown",
   "source":[
    "<h5>name = {key : value, key : value, key : value} <\/h5>\n",
    "ตัวคีย์ ถ้าเป็น string ต้องมี \" \" \n",
    "ถ้าเป็นตัวเลข ไม่ต้องมี \" \"\n",
    "\n",
    "เรียกใช้ key string ต้องมี \"\""
   ],
   "attachments":{
    
   },
   "metadata":{
    "datalore":{
     "node_id":"nsdGt56vzsO9o7dHY5REgm",
     "type":"MD",
     "hide_input_from_viewers":true,
     "hide_output_from_viewers":true
    }
   }
  },
  {
   "cell_type":"code",
   "source":[
    "color = {\"red\" : \"สีแดง\", \"purple\" : \"สีม่วง\" , \"black\" : \"สีดำ\" }\n",
    "print(color[\"red\"])"
   ],
   "execution_count":5,
   "outputs":[
    {
     "name":"stdout",
     "text":[
      "สีแดง\n"
     ],
     "output_type":"stream"
    }
   ],
   "metadata":{
    "datalore":{
     "node_id":"rNQhj9Mj0FNiStivapMs2e",
     "type":"CODE",
     "hide_input_from_viewers":true,
     "hide_output_from_viewers":true
    }
   }
  },
  {
   "cell_type":"markdown",
   "source":[
    "<h5> name = dict({key : value, key : value, key : value}) <\/h5>\n",
    "ตัวคีย์ ถ้าเป็น string ต้องมี \" \" \n",
    "ถ้าเป็นตัวเลข ไม่ต้องมี \" \"\n",
    "\n",
    "เรียกใช้ key string ต้องมี \"\""
   ],
   "attachments":{
    
   },
   "metadata":{
    "datalore":{
     "node_id":"4kBmgRR3x63goed1ZJNEpb",
     "type":"MD",
     "hide_input_from_viewers":true,
     "hide_output_from_viewers":true
    }
   }
  },
  {
   "cell_type":"code",
   "source":[
    "color = dict({1 : \"สีแดง\", \"purple\" : \"สีม่วง\" , 3 : \"สีดำ\" })"
   ],
   "execution_count":11,
   "outputs":[
    
   ],
   "metadata":{
    "datalore":{
     "node_id":"aGmkk22N1J1uRjzOLAvtmv",
     "type":"CODE",
     "hide_input_from_viewers":true,
     "hide_output_from_viewers":true
    }
   }
  },
  {
   "cell_type":"code",
   "source":[
    "print(color[1])"
   ],
   "execution_count":12,
   "outputs":[
    {
     "name":"stdout",
     "text":[
      "สีแดง\n"
     ],
     "output_type":"stream"
    }
   ],
   "metadata":{
    "datalore":{
     "node_id":"VplOunX3wjduLvDLyONvAu",
     "type":"CODE",
     "hide_input_from_viewers":true,
     "hide_output_from_viewers":true
    }
   }
  },
  {
   "cell_type":"code",
   "source":[
    "print(color.get(\"purple\"))"
   ],
   "execution_count":10,
   "outputs":[
    {
     "name":"stdout",
     "text":[
      "สีม่วง\n"
     ],
     "output_type":"stream"
    }
   ],
   "metadata":{
    "datalore":{
     "node_id":"35nz8Jh2xyPWunamr98rlS",
     "type":"CODE",
     "hide_input_from_viewers":true,
     "hide_output_from_viewers":true
    }
   }
  },
  {
   "cell_type":"markdown",
   "source":[
    "<h5>name = dict( key = value , key = value)<\/h5>"
   ],
   "attachments":{
    
   },
   "metadata":{
    "datalore":{
     "node_id":"gr2VSs3ivrOtfoeFdgP4h0",
     "type":"MD",
     "hide_input_from_viewers":true,
     "hide_output_from_viewers":true
    }
   }
  },
  {
   "cell_type":"markdown",
   "source":[
    "ตัวคีย์ ไม่ต้องมี \" \" แต่เวลาเรียก key ต้องใช้ \" \""
   ],
   "attachments":{
    
   },
   "metadata":{
    "datalore":{
     "node_id":"xB3P1dwoWf886fvxnOEkIR",
     "type":"MD",
     "hide_input_from_viewers":true,
     "hide_output_from_viewers":true
    }
   }
  },
  {
   "cell_type":"code",
   "source":[
    "animals = dict(cat = \"แมว\", dog = \"หมา\", cow = \"วัว\")\n",
    "print(animals[\"cat\"])"
   ],
   "execution_count":13,
   "outputs":[
    {
     "name":"stdout",
     "text":[
      "แมว\n"
     ],
     "output_type":"stream"
    }
   ],
   "metadata":{
    "datalore":{
     "node_id":"u1JZ7BgBmzvUIVGkDgIt6b",
     "type":"CODE",
     "hide_input_from_viewers":true,
     "hide_output_from_viewers":true
    }
   }
  },
  {
   "cell_type":"markdown",
   "source":[
    "<h5> ตั้ง key เป็น boolean <\/h5>"
   ],
   "attachments":{
    
   },
   "metadata":{
    "datalore":{
     "node_id":"H6PGLvwOSCZRYKf1sHyScZ",
     "type":"MD",
     "hide_input_from_viewers":true,
     "hide_output_from_viewers":true
    }
   }
  },
  {
   "cell_type":"code",
   "source":[
    "bool = { True : \"yes\" , False : \"No\"}\n",
    "print(bool[True])"
   ],
   "execution_count":14,
   "outputs":[
    {
     "name":"stdout",
     "text":[
      "yes\n"
     ],
     "output_type":"stream"
    }
   ],
   "metadata":{
    "datalore":{
     "node_id":"nvsqppnXAnFRegyx1JNrYG",
     "type":"CODE",
     "hide_input_from_viewers":true,
     "hide_output_from_viewers":true
    }
   }
  },
  {
   "cell_type":"markdown",
   "source":[
    "<h4> การแก้ไขข้อมูล <\/h4>"
   ],
   "attachments":{
    
   },
   "metadata":{
    "datalore":{
     "node_id":"yCEdenttQEcXLzLDBBvtnz",
     "type":"MD",
     "hide_input_from_viewers":true,
     "hide_output_from_viewers":true
    }
   }
  },
  {
   "cell_type":"code",
   "source":[
    "animals = dict(cat = \"แมว\", dog = \"หมา\", cow = \"วัว\")\n",
    "animals[\"cat\"] = \"เจ้านาย\"\n",
    "print(animals[\"cat\"])"
   ],
   "execution_count":15,
   "outputs":[
    {
     "name":"stdout",
     "text":[
      "เจ้านาย\n"
     ],
     "output_type":"stream"
    }
   ],
   "metadata":{
    "datalore":{
     "node_id":"SmRqjBUXjg1nxqRQ1W83ny",
     "type":"CODE",
     "hide_input_from_viewers":true,
     "hide_output_from_viewers":true
    }
   }
  },
  {
   "cell_type":"markdown",
   "source":[
    "<h4>การเพิ่มข้อมูล <\/h4>"
   ],
   "attachments":{
    
   },
   "metadata":{
    "datalore":{
     "node_id":"Zvq6BRdXo0Kms0rqs0yh1n",
     "type":"MD",
     "hide_input_from_viewers":true,
     "hide_output_from_viewers":true
    }
   }
  },
  {
   "cell_type":"code",
   "source":[
    "print(animals)"
   ],
   "execution_count":17,
   "outputs":[
    {
     "name":"stdout",
     "text":[
      "{'cat': 'เจ้านาย', 'dog': 'หมา', 'cow': 'วัว', 'human': 'คน', 'pig': 'หมู'}\n"
     ],
     "output_type":"stream"
    }
   ],
   "metadata":{
    "datalore":{
     "node_id":"VeBd3PYNCqaYqSZ8XaK40e",
     "type":"CODE",
     "hide_input_from_viewers":true,
     "hide_output_from_viewers":true
    }
   }
  },
  {
   "cell_type":"code",
   "source":[
    "animals.update({\"human\" : \"คน\" , \"pig\" : \"หมู\"}) \n",
    "print(animals) "
   ],
   "execution_count":16,
   "outputs":[
    {
     "name":"stdout",
     "text":[
      "{'cat': 'เจ้านาย', 'dog': 'หมา', 'cow': 'วัว', 'human': 'คน', 'pig': 'หมู'}\n"
     ],
     "output_type":"stream"
    }
   ],
   "metadata":{
    "datalore":{
     "node_id":"3J5yPHg0z9jmhM0RcfiiaZ",
     "type":"CODE",
     "hide_input_from_viewers":true,
     "hide_output_from_viewers":true
    }
   }
  },
  {
   "cell_type":"markdown",
   "source":[
    "<p> update key ซ้ำ : จะใส่ค่าของ คีย์ล่าสุดเข้าไปแทน <\/p>"
   ],
   "attachments":{
    
   },
   "metadata":{
    "datalore":{
     "node_id":"k3GON4glHugl5W4rxdSfLK",
     "type":"MD",
     "hide_input_from_viewers":true,
     "hide_output_from_viewers":true
    }
   }
  },
  {
   "cell_type":"code",
   "source":[
    "animals.update({\"human\" : \"ทาส\"})\n",
    "print(animals)"
   ],
   "execution_count":18,
   "outputs":[
    {
     "name":"stdout",
     "text":[
      "{'cat': 'เจ้านาย', 'dog': 'หมา', 'cow': 'วัว', 'human': 'ทาส', 'pig': 'หมู'}\n"
     ],
     "output_type":"stream"
    }
   ],
   "metadata":{
    "datalore":{
     "node_id":"n6XVFyY2S5bqJaxgpJ0fyS",
     "type":"CODE",
     "hide_input_from_viewers":true,
     "hide_output_from_viewers":true
    }
   }
  },
  {
   "cell_type":"markdown",
   "source":[
    "<h4> for and dict <\/h4>"
   ],
   "attachments":{
    
   },
   "metadata":{
    "datalore":{
     "node_id":"3QU77YSPowde8DKvf7EtpE",
     "type":"MD",
     "hide_input_from_viewers":true,
     "hide_output_from_viewers":true
    }
   }
  },
  {
   "cell_type":"code",
   "source":[
    "print(animals)"
   ],
   "execution_count":20,
   "outputs":[
    {
     "name":"stdout",
     "text":[
      "{'cat': 'เจ้านาย', 'dog': 'หมา', 'cow': 'วัว', 'human': 'ทาส', 'pig': 'หมู'}\n"
     ],
     "output_type":"stream"
    }
   ],
   "metadata":{
    "datalore":{
     "node_id":"p4hw0pYkKLNt1c1a3HIm7j",
     "type":"CODE",
     "hide_input_from_viewers":true,
     "hide_output_from_viewers":true
    }
   }
  },
  {
   "cell_type":"markdown",
   "source":[
    "<h5> for x in name_dict : <\/h5>\n",
    "<h5> for x in name_dict.keys() <\/h5>\n",
    "<p> item is key<\/p>"
   ],
   "attachments":{
    
   },
   "metadata":{
    "datalore":{
     "node_id":"pTcP9bAI5cnJgrJhKgdldD",
     "type":"MD",
     "hide_input_from_viewers":true,
     "hide_output_from_viewers":true
    }
   }
  },
  {
   "cell_type":"code",
   "source":[
    "for item in animals :\n",
    "    print(item)"
   ],
   "execution_count":19,
   "outputs":[
    {
     "name":"stdout",
     "text":[
      "cat\n",
      "dog\n",
      "cow\n",
      "human\n",
      "pig\n"
     ],
     "output_type":"stream"
    }
   ],
   "metadata":{
    "datalore":{
     "node_id":"2eyaMsnILFzq5B1LgIAxsR",
     "type":"CODE",
     "hide_input_from_viewers":true,
     "hide_output_from_viewers":true
    }
   }
  },
  {
   "cell_type":"code",
   "source":[
    "for item in animals.keys() :\n",
    "    print(item)"
   ],
   "execution_count":22,
   "outputs":[
    {
     "name":"stdout",
     "text":[
      "cat\n",
      "dog\n",
      "cow\n",
      "human\n",
      "pig\n"
     ],
     "output_type":"stream"
    }
   ],
   "metadata":{
    "datalore":{
     "node_id":"gFysv5LQHhH0AYpnhc7RpY",
     "type":"CODE",
     "hide_input_from_viewers":true,
     "hide_output_from_viewers":true
    }
   }
  },
  {
   "cell_type":"markdown",
   "source":[
    "<h5> for x in name_dict.values() <\/h5>\n",
    "<p> item is value of key <\/p>"
   ],
   "attachments":{
    
   },
   "metadata":{
    "datalore":{
     "node_id":"fOTy5KL4mRNHsObyxVZJHo",
     "type":"MD",
     "hide_input_from_viewers":true,
     "hide_output_from_viewers":true
    }
   }
  },
  {
   "cell_type":"code",
   "source":[
    "for item in animals.values() :\n",
    "    print(item)"
   ],
   "execution_count":21,
   "outputs":[
    {
     "name":"stdout",
     "text":[
      "เจ้านาย\n",
      "หมา\n",
      "วัว\n",
      "ทาส\n",
      "หมู\n"
     ],
     "output_type":"stream"
    }
   ],
   "metadata":{
    "datalore":{
     "node_id":"Juduhz7Gs9rA4FIYqQCkgz",
     "type":"CODE",
     "hide_input_from_viewers":true,
     "hide_output_from_viewers":true
    }
   }
  },
  {
   "cell_type":"markdown",
   "source":[
    "<h5> for x,y in name_dict.items() <\/h5>\n",
    "<p> ตัวแปร x = keys <\/p>\n",
    "<p> ตัวแปร  y = values <\/p>"
   ],
   "attachments":{
    
   },
   "metadata":{
    "datalore":{
     "node_id":"lcJ27PtNJEMVXPkvu4L5Xh",
     "type":"MD",
     "hide_input_from_viewers":true,
     "hide_output_from_viewers":true
    }
   }
  },
  {
   "cell_type":"code",
   "source":[
    "for k,v in animals.items() :\n",
    "    print(\"key = \" , k, \"value = \" , v)"
   ],
   "execution_count":23,
   "outputs":[
    {
     "name":"stdout",
     "text":[
      "key =  cat value =  เจ้านาย\n",
      "key =  dog value =  หมา\n",
      "key =  cow value =  วัว\n",
      "key =  human value =  ทาส\n",
      "key =  pig value =  หมู\n"
     ],
     "output_type":"stream"
    }
   ],
   "metadata":{
    "datalore":{
     "node_id":"KvHdSwqXNf92RjPCECVhVt",
     "type":"CODE",
     "hide_input_from_viewers":true,
     "hide_output_from_viewers":true
    }
   }
  },
  {
   "cell_type":"markdown",
   "source":[
    "<h4> ลบข้อมูล <\/h4>"
   ],
   "attachments":{
    
   },
   "metadata":{
    "datalore":{
     "node_id":"3EVd5ig7Qsk1xt9OxglQWo",
     "type":"MD",
     "hide_input_from_viewers":true,
     "hide_output_from_viewers":true
    }
   }
  },
  {
   "cell_type":"markdown",
   "source":[
    "<h5> .pop() <\/h5>"
   ],
   "attachments":{
    
   },
   "metadata":{
    "datalore":{
     "node_id":"4YKYcLv7dYPjjANV7Itci3",
     "type":"MD",
     "hide_input_from_viewers":true,
     "hide_output_from_viewers":true
    }
   }
  },
  {
   "cell_type":"code",
   "source":[
    "print(animals)"
   ],
   "execution_count":24,
   "outputs":[
    {
     "name":"stdout",
     "text":[
      "{'cat': 'เจ้านาย', 'dog': 'หมา', 'cow': 'วัว', 'human': 'ทาส', 'pig': 'หมู'}\n"
     ],
     "output_type":"stream"
    }
   ],
   "metadata":{
    "datalore":{
     "node_id":"P1cg4lHGIzOrSaQ7FWJPKQ",
     "type":"CODE",
     "hide_input_from_viewers":true,
     "hide_output_from_viewers":true
    }
   }
  },
  {
   "cell_type":"code",
   "source":[
    "animals.pop(\"pig\")\n",
    "\n",
    "print(animals)"
   ],
   "execution_count":25,
   "outputs":[
    {
     "name":"stdout",
     "text":[
      "{'cat': 'เจ้านาย', 'dog': 'หมา', 'cow': 'วัว', 'human': 'ทาส'}\n"
     ],
     "output_type":"stream"
    }
   ],
   "metadata":{
    "datalore":{
     "node_id":"MsUdYzD46LWNMsWXci0tvj",
     "type":"CODE",
     "hide_input_from_viewers":true,
     "hide_output_from_viewers":true
    }
   }
  },
  {
   "cell_type":"markdown",
   "source":[
    "<h4> .popitem() => เอาตัวสุดท้ายออก <\/h4>"
   ],
   "attachments":{
    
   },
   "metadata":{
    "datalore":{
     "node_id":"lV8PAQazOYszj7JsCBOmQC",
     "type":"MD",
     "hide_input_from_viewers":true,
     "hide_output_from_viewers":true
    }
   }
  },
  {
   "cell_type":"code",
   "source":[
    "animals.popitem()\n",
    "print(animals)"
   ],
   "execution_count":26,
   "outputs":[
    {
     "name":"stdout",
     "text":[
      "{'cat': 'เจ้านาย', 'dog': 'หมา', 'cow': 'วัว'}\n"
     ],
     "output_type":"stream"
    }
   ],
   "metadata":{
    "datalore":{
     "node_id":"VmyA0ijl1cTDBNAkQoKQ8X",
     "type":"CODE",
     "hide_input_from_viewers":true,
     "hide_output_from_viewers":true
    }
   }
  },
  {
   "cell_type":"markdown",
   "source":[
    "<h4> .clear() <\/h4>"
   ],
   "attachments":{
    
   },
   "metadata":{
    "datalore":{
     "node_id":"QpZouUdrnoGs9WJyH1GzEe",
     "type":"MD",
     "hide_input_from_viewers":true,
     "hide_output_from_viewers":true
    }
   }
  },
  {
   "cell_type":"code",
   "source":[
    "animals.clear()\n",
    "print(animals)"
   ],
   "execution_count":27,
   "outputs":[
    {
     "name":"stdout",
     "text":[
      "{}\n"
     ],
     "output_type":"stream"
    }
   ],
   "metadata":{
    "datalore":{
     "node_id":"UzsghKIAZImSLvS3aEyxhi",
     "type":"CODE",
     "hide_input_from_viewers":true,
     "hide_output_from_viewers":true
    }
   }
  },
  {
   "cell_type":"markdown",
   "source":[
    "<h4> del dictionary <\/h4>"
   ],
   "attachments":{
    
   },
   "metadata":{
    "datalore":{
     "node_id":"MepZj2ze6XIj8mBNXml5ex",
     "type":"MD",
     "hide_input_from_viewers":true,
     "hide_output_from_viewers":true
    }
   }
  },
  {
   "cell_type":"code",
   "source":[
    "del animals\n",
    "\n",
    "print(animals)"
   ],
   "execution_count":28,
   "outputs":[
    {
     "ename":"NameError",
     "evalue":"NameError: name 'animals' is not defined",
     "traceback":[
      "\u001b[0;31m---------------------------------------------------------------------------",
      "Traceback (most recent call last)",
      "    at line 3 in <module>",
      "NameError: name 'animals' is not defined"
     ],
     "output_type":"error"
    }
   ],
   "metadata":{
    "datalore":{
     "node_id":"DwjiM0YXhu7upNoIYnWnyn",
     "type":"CODE",
     "hide_input_from_viewers":true,
     "hide_output_from_viewers":true
    }
   }
  },
  {
   "cell_type":"markdown",
   "source":[
    "<h4> คัดลอกข้อมูล <\/h4>"
   ],
   "attachments":{
    
   },
   "metadata":{
    "datalore":{
     "node_id":"3YbpbpgktlWz8oWs71YMaT",
     "type":"MD",
     "hide_input_from_viewers":true,
     "hide_output_from_viewers":true
    }
   }
  },
  {
   "cell_type":"code",
   "source":[
    "animals = dict(cat = \"แมว\", dog = \"หมา\", cow = \"วัว\" )\n",
    "\n",
    "x = animals.copy()\n",
    "print(x)"
   ],
   "execution_count":29,
   "outputs":[
    {
     "name":"stdout",
     "text":[
      "{'cat': 'แมว', 'dog': 'หมา', 'cow': 'วัว'}\n"
     ],
     "output_type":"stream"
    }
   ],
   "metadata":{
    "datalore":{
     "node_id":"4VMXRb8WAR0wZM1hdz7yT9",
     "type":"CODE",
     "hide_input_from_viewers":true,
     "hide_output_from_viewers":true
    }
   }
  },
  {
   "cell_type":"markdown",
   "source":[
    "<h4> dict ซ้อน dict<\/h4>"
   ],
   "attachments":{
    
   },
   "metadata":{
    "datalore":{
     "node_id":"ujAVq6As9nojKrKeBSTOlm",
     "type":"MD",
     "hide_input_from_viewers":true,
     "hide_output_from_viewers":true
    }
   }
  },
  {
   "cell_type":"code",
   "source":[
    "market = {\n",
    "    \"ร้าน A\" : {\n",
    "        \"name\" : \"เอ\", #comma\n",
    "        \"menu\" : [\"กะเพราไก่\" ,\"เตี๋ยว\"] #List\n",
    "    } , #comma\n",
    "    \"ร้าน B\" : {\n",
    "        \"name\" : \"บี\" , #comma\n",
    "        \"menu\" : [\"ราดหน้า\" , \"ข้าวซอย\"] #List\n",
    "    }\n",
    "}"
   ],
   "execution_count":30,
   "outputs":[
    
   ],
   "metadata":{
    "datalore":{
     "node_id":"Jm7vAE3mgJjVKZFMrys0z1",
     "type":"CODE",
     "hide_input_from_viewers":true,
     "hide_output_from_viewers":true
    }
   }
  },
  {
   "cell_type":"code",
   "source":[
    "print(market[\"ร้าน A\"][\"menu\"])"
   ],
   "execution_count":31,
   "outputs":[
    {
     "name":"stdout",
     "text":[
      "['กะเพราไก่', 'เตี๋ยว']\n"
     ],
     "output_type":"stream"
    }
   ],
   "metadata":{
    "datalore":{
     "node_id":"Ldl60sEfRuMo70QLJ4O9Cx",
     "type":"CODE",
     "hide_input_from_viewers":true,
     "hide_output_from_viewers":true
    }
   }
  },
  {
   "cell_type":"code",
   "source":[
    "if \"เตี๋ยว\" in market[\"ร้าน A\"][\"menu\"] :\n",
    "    print(\"True\") #True\n",
    "else : \n",
    "    print(\"False\")"
   ],
   "execution_count":32,
   "outputs":[
    {
     "name":"stdout",
     "text":[
      "True\n"
     ],
     "output_type":"stream"
    }
   ],
   "metadata":{
    "datalore":{
     "node_id":"Vd1BIaBMzH5nw2tVwCSk65",
     "type":"CODE",
     "hide_input_from_viewers":true,
     "hide_output_from_viewers":true
    }
   }
  }
 ],
 "metadata":{
  "kernelspec":{
   "display_name":"Python",
   "language":"python",
   "name":"python"
  },
  "datalore":{
   "computation_mode":"JUPYTER",
   "package_manager":"pip",
   "base_environment":"default",
   "packages":[
    
   ],
   "report_row_ids":[
    
   ],
   "version":3
  }
 },
 "nbformat":4,
 "nbformat_minor":4
}