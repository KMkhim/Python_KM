{
 "cells":[
  {
   "cell_type":"markdown",
   "source":[
    "# SET\n",
    "<h4> การนิยาม <\/h4>\n",
    "<h4> constructor <\/h4>"
   ],
   "attachments":{
    
   },
   "metadata":{
    "datalore":{
     "node_id":"9Mc9DshC1Z3VOqwWj7PgbS",
     "type":"MD",
     "hide_input_from_viewers":true,
     "hide_output_from_viewers":true
    }
   }
  },
  {
   "cell_type":"code",
   "source":[
    "fruit = {\"มะม่วง\" , \"มะขาม\" ,\"มะยม\"}\n",
    "print(fruit)"
   ],
   "execution_count":7,
   "outputs":[
    {
     "name":"stdout",
     "text":[
      "{'มะขาม', 'มะยม', 'มะม่วง'}\n"
     ],
     "output_type":"stream"
    }
   ],
   "metadata":{
    "datalore":{
     "node_id":"APkLM3ZPpKhgLsdQRv0tWP",
     "type":"CODE",
     "hide_input_from_viewers":true,
     "hide_output_from_viewers":true
    }
   }
  },
  {
   "cell_type":"code",
   "source":[
    "various = {\"k\" ,11, True, 50.00}\n",
    "print(various)"
   ],
   "execution_count":11,
   "outputs":[
    {
     "name":"stdout",
     "text":[
      "{True, 50.0, 11, 'k'}\n"
     ],
     "output_type":"stream"
    }
   ],
   "metadata":{
    "datalore":{
     "node_id":"Rle7RJckWJECn1zBwGc7XA",
     "type":"CODE",
     "hide_input_from_viewers":true,
     "hide_output_from_viewers":true
    }
   }
  },
  {
   "cell_type":"markdown",
   "source":[
    "<h4> Constructor <\/h4>"
   ],
   "attachments":{
    
   },
   "metadata":{
    "datalore":{
     "node_id":"1jSFTztSpQInqQsuRu8TDI",
     "type":"MD",
     "hide_input_from_viewers":true,
     "hide_output_from_viewers":true
    }
   }
  },
  {
   "cell_type":"code",
   "source":[
    "fish = set([\"ปลาดุก\" ,\"ปลาหมอ\", \"ปลาทู\"])\n",
    "print(fish)"
   ],
   "execution_count":12,
   "outputs":[
    {
     "name":"stdout",
     "text":[
      "{'ปลาดุก', 'ปลาทู', 'ปลาหมอ'}\n"
     ],
     "output_type":"stream"
    }
   ],
   "metadata":{
    "datalore":{
     "node_id":"50KyMsMIJfQtriDgHv6sR8",
     "type":"CODE",
     "hide_input_from_viewers":true,
     "hide_output_from_viewers":true
    }
   }
  },
  {
   "cell_type":"markdown",
   "source":[
    "<h4> การเพิ่มข้อมูลสมาชิก <\/h4>"
   ],
   "attachments":{
    
   },
   "metadata":{
    "datalore":{
     "node_id":"MvxvPSGcqcZcYLNfjb60pY",
     "type":"MD",
     "hide_input_from_viewers":true,
     "hide_output_from_viewers":true
    }
   }
  },
  {
   "cell_type":"code",
   "source":[
    "fruit = {\"มะม่วง\" , \"มะขาม\" ,\"มะยม\"}"
   ],
   "execution_count":15,
   "outputs":[
    
   ],
   "metadata":{
    "datalore":{
     "node_id":"2ZRk1bejVGW2CjV1z6ry74",
     "type":"CODE",
     "hide_input_from_viewers":true,
     "hide_output_from_viewers":true
    }
   }
  },
  {
   "cell_type":"code",
   "source":[
    "\n",
    "fruit.add(\"ทุเรียน\")\n",
    "fruit.add(\"pineapple\")\n",
    "\n",
    "print(fruit)"
   ],
   "execution_count":16,
   "outputs":[
    {
     "name":"stdout",
     "text":[
      "{'pineapple', 'มะยม', 'มะขาม', 'ทุเรียน', 'มะม่วง'}\n"
     ],
     "output_type":"stream"
    }
   ],
   "metadata":{
    "datalore":{
     "node_id":"JQ9urYOg43ADh8h2Ov3I8y",
     "type":"CODE",
     "hide_input_from_viewers":true,
     "hide_output_from_viewers":true
    }
   }
  },
  {
   "cell_type":"markdown",
   "source":[
    "<h4> การเพิ่มข้อมูลสมาชิกหลายๆตัว <\/h4>"
   ],
   "attachments":{
    
   },
   "metadata":{
    "datalore":{
     "node_id":"mQdCPTXmc4pIAAKkx0672Y",
     "type":"MD",
     "hide_input_from_viewers":true,
     "hide_output_from_viewers":true
    }
   }
  },
  {
   "cell_type":"code",
   "source":[
    "lis = [1, 2, 3]\n",
    "fruit.update(lis)\n",
    "print(fruit)"
   ],
   "execution_count":17,
   "outputs":[
    {
     "name":"stdout",
     "text":[
      "{1, 2, 'pineapple', 3, 'มะยม', 'มะขาม', 'ทุเรียน', 'มะม่วง'}\n"
     ],
     "output_type":"stream"
    }
   ],
   "metadata":{
    "datalore":{
     "node_id":"UB2gWuuSfCSmVmqIGYdNhf",
     "type":"CODE",
     "hide_input_from_viewers":true,
     "hide_output_from_viewers":true
    }
   }
  },
  {
   "cell_type":"markdown",
   "source":[
    "<h4> loop แสดงผล <\/h4>"
   ],
   "attachments":{
    
   },
   "metadata":{
    "datalore":{
     "node_id":"sWbcwE7Q6y4IDxIkjbFmDT",
     "type":"MD",
     "hide_input_from_viewers":true,
     "hide_output_from_viewers":true
    }
   }
  },
  {
   "cell_type":"code",
   "source":[
    "for item in fruit:\n",
    "    print(\"ข้อมูล =>\" , item)"
   ],
   "execution_count":18,
   "outputs":[
    {
     "name":"stdout",
     "text":[
      "ข้อมูล => 1\n",
      "ข้อมูล => 2\n",
      "ข้อมูล => pineapple\n",
      "ข้อมูล => 3\n",
      "ข้อมูล => มะยม\n",
      "ข้อมูล => มะขาม\n",
      "ข้อมูล => ทุเรียน\n",
      "ข้อมูล => มะม่วง\n"
     ],
     "output_type":"stream"
    }
   ],
   "metadata":{
    "datalore":{
     "node_id":"7Hnf6E2VxwGWi2iRr3tr2E",
     "type":"CODE",
     "hide_input_from_viewers":true,
     "hide_output_from_viewers":true
    }
   }
  },
  {
   "cell_type":"markdown",
   "source":[
    "<h4> แสดงจำนวนสมาชิกใน set <\/h4>"
   ],
   "attachments":{
    
   },
   "metadata":{
    "datalore":{
     "node_id":"g6nliF9c9rQArpDpvEBRjy",
     "type":"MD",
     "hide_input_from_viewers":true,
     "hide_output_from_viewers":true
    }
   }
  },
  {
   "cell_type":"code",
   "source":[
    "print(len(fruit))"
   ],
   "execution_count":19,
   "outputs":[
    {
     "name":"stdout",
     "text":[
      "8\n"
     ],
     "output_type":"stream"
    }
   ],
   "metadata":{
    "datalore":{
     "node_id":"tNADOOCcATOoC6PaEOq83U",
     "type":"CODE",
     "hide_input_from_viewers":true,
     "hide_output_from_viewers":true
    }
   }
  },
  {
   "cell_type":"markdown",
   "source":[
    "<h4> check ว่า \"...\" อยู่ใน set ไหม <\/h4>"
   ],
   "attachments":{
    
   },
   "metadata":{
    "datalore":{
     "node_id":"2pnLUMRBOfgEysaX0TXvE2",
     "type":"MD",
     "hide_input_from_viewers":true,
     "hide_output_from_viewers":true
    }
   }
  },
  {
   "cell_type":"code",
   "source":[
    "if \"มะเฟือง\" in fruit:\n",
    "    print(\"True\")\n",
    "else :\n",
    "    print(\"False\")"
   ],
   "execution_count":20,
   "outputs":[
    {
     "name":"stdout",
     "text":[
      "False\n"
     ],
     "output_type":"stream"
    }
   ],
   "metadata":{
    "datalore":{
     "node_id":"vYrAScay0Ra7OGK1hONI2k",
     "type":"CODE",
     "hide_input_from_viewers":true,
     "hide_output_from_viewers":true
    }
   }
  },
  {
   "cell_type":"markdown",
   "source":[
    "<h4> การลบข้อมูล <\/h4>"
   ],
   "attachments":{
    
   },
   "metadata":{
    "datalore":{
     "node_id":"snTyF9a7dYK1O6yNHiZcrE",
     "type":"MD",
     "hide_input_from_viewers":true,
     "hide_output_from_viewers":true
    }
   }
  },
  {
   "cell_type":"markdown",
   "source":[
    "<p> .remove() <\/p>"
   ],
   "attachments":{
    
   },
   "metadata":{
    "datalore":{
     "node_id":"8kePb70bv15dgNneOeSfIN",
     "type":"MD",
     "hide_input_from_viewers":true,
     "hide_output_from_viewers":true
    }
   }
  },
  {
   "cell_type":"code",
   "source":[
    "print(fruit)\n",
    "\n",
    "fruit.remove(\"pineapple\")\n",
    "print(fruit)"
   ],
   "execution_count":21,
   "outputs":[
    {
     "name":"stdout",
     "text":[
      "{1, 2, 'pineapple', 3, 'มะยม', 'มะขาม', 'ทุเรียน', 'มะม่วง'}\n",
      "{1, 2, 3, 'มะยม', 'มะขาม', 'ทุเรียน', 'มะม่วง'}\n"
     ],
     "output_type":"stream"
    }
   ],
   "metadata":{
    "datalore":{
     "node_id":"ti2gZ9uZqChVFJUhqKtx9e",
     "type":"CODE",
     "hide_input_from_viewers":true,
     "hide_output_from_viewers":true
    }
   }
  },
  {
   "cell_type":"markdown",
   "source":[
    "<p> .remove() กับ .discard() ทำหน้าที่ีลบข้อมูล แต่ถ้าข้อมูลที่สั่งให้ลบไม่มี <\/p>\n",
    "<p>remove จะขึ้น error <\/p>\n",
    "<p>discard ไม่ขึ้น error <\/p>"
   ],
   "attachments":{
    
   },
   "metadata":{
    "datalore":{
     "node_id":"tG0GW9IUySapwPKAOzm4mf",
     "type":"MD",
     "hide_input_from_viewers":true,
     "hide_output_from_viewers":true
    }
   }
  },
  {
   "cell_type":"code",
   "source":[
    "fruit.clear()\n",
    "print(fruit)"
   ],
   "execution_count":22,
   "outputs":[
    {
     "name":"stdout",
     "text":[
      "set()\n"
     ],
     "output_type":"stream"
    }
   ],
   "metadata":{
    "datalore":{
     "node_id":"rUucGrQY4IzU5SDoCv9OGG",
     "type":"CODE",
     "hide_input_from_viewers":true,
     "hide_output_from_viewers":true
    }
   }
  },
  {
   "cell_type":"code",
   "source":[
    "del fruit\n",
    "print(fruit)"
   ],
   "execution_count":23,
   "outputs":[
    {
     "ename":"NameError",
     "evalue":"NameError: name 'fruit' is not defined",
     "traceback":[
      "\u001b[0;31m---------------------------------------------------------------------------",
      "Traceback (most recent call last)",
      "    at line 2 in <module>",
      "NameError: name 'fruit' is not defined"
     ],
     "output_type":"error"
    }
   ],
   "metadata":{
    "datalore":{
     "node_id":"Rr0CqqwCu70j76NBUpaRCR",
     "type":"CODE",
     "hide_input_from_viewers":true,
     "hide_output_from_viewers":true
    }
   }
  },
  {
   "cell_type":"markdown",
   "source":[
    "<h4> union <\/h4>"
   ],
   "attachments":{
    
   },
   "metadata":{
    "datalore":{
     "node_id":"YX9UrEVtJTndPY3p3UcqpK",
     "type":"MD",
     "hide_input_from_viewers":true,
     "hide_output_from_viewers":true
    }
   }
  },
  {
   "cell_type":"code",
   "source":[
    "str1 = {\"1\", \"2\", \"3\", \"4\"}\n",
    "str2 = {\"0\", \"7\", \"2\"}"
   ],
   "execution_count":26,
   "outputs":[
    
   ],
   "metadata":{
    "datalore":{
     "node_id":"Fnl4PweMyQpCh2WcyOJNqM",
     "type":"CODE",
     "hide_input_from_viewers":true,
     "hide_output_from_viewers":true
    }
   }
  },
  {
   "cell_type":"code",
   "source":[
    "allStr = str1.union(str2)"
   ],
   "execution_count":27,
   "outputs":[
    
   ],
   "metadata":{
    "datalore":{
     "node_id":"r2bkz4yxvtUv7Xukofes1m",
     "type":"CODE",
     "hide_input_from_viewers":true,
     "hide_output_from_viewers":true
    }
   }
  },
  {
   "cell_type":"code",
   "source":[
    "print(allStr)"
   ],
   "execution_count":28,
   "outputs":[
    {
     "name":"stdout",
     "text":[
      "{'7', '2', '1', '3', '4', '0'}\n"
     ],
     "output_type":"stream"
    }
   ],
   "metadata":{
    "datalore":{
     "node_id":"2JG5WQ33BCXPnic2IwmA0b",
     "type":"CODE",
     "hide_input_from_viewers":true,
     "hide_output_from_viewers":true
    }
   }
  },
  {
   "cell_type":"markdown",
   "source":[
    "<h4>.copy() <\/h4>"
   ],
   "attachments":{
    
   },
   "metadata":{
    "datalore":{
     "node_id":"ZzRfmnXlMJupQ1pGt6pZ1s",
     "type":"MD",
     "hide_input_from_viewers":true,
     "hide_output_from_viewers":true
    }
   }
  },
  {
   "cell_type":"code",
   "source":[
    "str1 = {\"1\", \"2\", \"3\", \"4\"}\n",
    "\n",
    "str3 = str1.copy()\n",
    "\n",
    "print(str3)"
   ],
   "execution_count":25,
   "outputs":[
    {
     "name":"stdout",
     "text":[
      "{'1', '3', '2', '4'}\n"
     ],
     "output_type":"stream"
    }
   ],
   "metadata":{
    "datalore":{
     "node_id":"Ko0xLiJpt5OpOq1dIX8Gek",
     "type":"CODE",
     "hide_input_from_viewers":true,
     "hide_output_from_viewers":true
    }
   }
  },
  {
   "cell_type":"markdown",
   "source":[
    "<h4>.difference()<\/h4>"
   ],
   "attachments":{
    
   },
   "metadata":{
    "datalore":{
     "node_id":"2qDW7akViFM1C0u1aCwN84",
     "type":"MD",
     "hide_input_from_viewers":true,
     "hide_output_from_viewers":true
    }
   }
  },
  {
   "cell_type":"code",
   "source":[
    "num1 = {\"1\", \"2\", \"3\"}\n",
    "num2 = {\"1\", \"3\"}\n",
    "\n",
    "num3 = num1.difference(num2) #เก็บแยกไว้ที่ num3\n",
    "print(num3)"
   ],
   "execution_count":29,
   "outputs":[
    {
     "name":"stdout",
     "text":[
      "{'2'}\n"
     ],
     "output_type":"stream"
    }
   ],
   "metadata":{
    "datalore":{
     "node_id":"N8pqvu58Ahul8yaIMh4LuY",
     "type":"CODE",
     "hide_input_from_viewers":true,
     "hide_output_from_viewers":true
    }
   }
  },
  {
   "cell_type":"markdown",
   "source":[
    "<h4>.difference_update()<\/h4>"
   ],
   "attachments":{
    
   },
   "metadata":{
    "datalore":{
     "node_id":"oi9DakkKjCAJvAx6MskRLa",
     "type":"MD",
     "hide_input_from_viewers":true,
     "hide_output_from_viewers":true
    }
   }
  },
  {
   "cell_type":"code",
   "source":[
    "num1.difference_update(num2) #เก็บไว้ที่ num1\n",
    "print(num1)"
   ],
   "execution_count":30,
   "outputs":[
    {
     "name":"stdout",
     "text":[
      "{'2'}\n"
     ],
     "output_type":"stream"
    }
   ],
   "metadata":{
    "datalore":{
     "node_id":"Fem40JZodJM3nteAdevev5",
     "type":"CODE",
     "hide_input_from_viewers":true,
     "hide_output_from_viewers":true
    }
   }
  },
  {
   "cell_type":"markdown",
   "source":[
    "<h4>.intersection()<\/h4>"
   ],
   "attachments":{
    
   },
   "metadata":{
    "datalore":{
     "node_id":"Zf0TEDfiDbXo6SzGeAn0dL",
     "type":"MD",
     "hide_input_from_viewers":true,
     "hide_output_from_viewers":true
    }
   }
  },
  {
   "cell_type":"code",
   "source":[
    "num1 = {\"1\", \"2\", \"3\"}\n",
    "num2 = {\"1\", \"3\"}\n",
    "\n",
    "num4 = num1.intersection(num2) #เก็บแยกไว้ที่ num4\n",
    "print(num4)"
   ],
   "execution_count":31,
   "outputs":[
    {
     "name":"stdout",
     "text":[
      "{'1', '3'}\n"
     ],
     "output_type":"stream"
    }
   ],
   "metadata":{
    "datalore":{
     "node_id":"oiI9w9bLZiUUgBUxsr6hHp",
     "type":"CODE",
     "hide_input_from_viewers":true,
     "hide_output_from_viewers":true
    }
   }
  },
  {
   "cell_type":"markdown",
   "source":[
    "<h4>.intersection_update() <\/h4>"
   ],
   "attachments":{
    
   },
   "metadata":{
    "datalore":{
     "node_id":"qxIQDTUGf9sN4NsaVJG0RY",
     "type":"MD",
     "hide_input_from_viewers":true,
     "hide_output_from_viewers":true
    }
   }
  },
  {
   "cell_type":"code",
   "source":[
    "num1.intersection_update(num2) #เก็บไว้ที่ num1\n",
    "print(num1)"
   ],
   "execution_count":32,
   "outputs":[
    {
     "name":"stdout",
     "text":[
      "{'1', '3'}\n"
     ],
     "output_type":"stream"
    }
   ],
   "metadata":{
    "datalore":{
     "node_id":"o9HfHgap4Z5ATtrtOAfUYJ",
     "type":"CODE",
     "hide_input_from_viewers":true,
     "hide_output_from_viewers":true
    }
   }
  },
  {
   "cell_type":"markdown",
   "source":[
    "<h4> subset <\/h4>"
   ],
   "attachments":{
    
   },
   "metadata":{
    "datalore":{
     "node_id":"nYtZtHQCZJCB5D4LxeExlE",
     "type":"MD",
     "hide_input_from_viewers":true,
     "hide_output_from_viewers":true
    }
   }
  },
  {
   "cell_type":"code",
   "source":[
    "charac = {\"A\", \"B\", \"C\", \"D\"}\n",
    "charac2 = {\"A\", \"B\"}\n",
    "\n",
    "print(charac2.issubset(charac))"
   ],
   "execution_count":33,
   "outputs":[
    {
     "name":"stdout",
     "text":[
      "True\n"
     ],
     "output_type":"stream"
    }
   ],
   "metadata":{
    "datalore":{
     "node_id":"Z6A6LH4jCLAfFJ7n4OER5i",
     "type":"CODE",
     "hide_input_from_viewers":true,
     "hide_output_from_viewers":true
    }
   }
  },
  {
   "cell_type":"markdown",
   "source":[
    "<h4> min \/ max <\/h4>"
   ],
   "attachments":{
    
   },
   "metadata":{
    "datalore":{
     "node_id":"gdCp2bf7bWhVkMwvG0BxGe",
     "type":"MD",
     "hide_input_from_viewers":true,
     "hide_output_from_viewers":true
    }
   }
  },
  {
   "cell_type":"code",
   "source":[
    "number = {\"1\", \"2\", \"3\", \"4\", \"5\"}\n",
    "print(min(number))\n",
    "print(max(number))"
   ],
   "execution_count":34,
   "outputs":[
    {
     "name":"stdout",
     "text":[
      "1\n",
      "5\n"
     ],
     "output_type":"stream"
    }
   ],
   "metadata":{
    "datalore":{
     "node_id":"g8g8j3kLADM7jHhis2ycfQ",
     "type":"CODE",
     "hide_input_from_viewers":true,
     "hide_output_from_viewers":true
    }
   }
  },
  {
   "cell_type":"markdown",
   "source":[
    "# frozent set"
   ],
   "attachments":{
    
   },
   "metadata":{
    "datalore":{
     "node_id":"4yT2BddoGnks6wAWHcTyNK",
     "type":"MD",
     "hide_input_from_viewers":true,
     "hide_output_from_viewers":true
    }
   }
  },
  {
   "cell_type":"code",
   "source":[
    "num = frozenset([\"1\", \"2\", \"3\"])"
   ],
   "execution_count":35,
   "outputs":[
    
   ],
   "metadata":{
    "datalore":{
     "node_id":"VGUZMjkNXAbIaM78KJt9Rh",
     "type":"CODE",
     "hide_input_from_viewers":true,
     "hide_output_from_viewers":true
    }
   }
  },
  {
   "cell_type":"markdown",
   "source":[
    "<p> #num.add(\"55\") #'frozenset' object has no attribute 'add' <\/p>\n",
    "<p> #num.discard(\"1\") #'frozenset' object has no attribute 'discard' <\/p>\n",
    "<p> #num.append(\"8\")  'frozenset' object has no attribute 'append' <\/p>"
   ],
   "attachments":{
    
   },
   "metadata":{
    "datalore":{
     "node_id":"LAClHw0fstrWUc2XgLfO8e",
     "type":"MD",
     "hide_input_from_viewers":true,
     "hide_output_from_viewers":true
    }
   }
  },
  {
   "cell_type":"code",
   "source":[
    "lis = list(num)\n",
    "print(\"before append\" ,lis)"
   ],
   "execution_count":36,
   "outputs":[
    {
     "name":"stdout",
     "text":[
      "before append ['1', '3', '2']\n"
     ],
     "output_type":"stream"
    }
   ],
   "metadata":{
    "datalore":{
     "node_id":"SRhaEpIbN222VWSpoCSUgw",
     "type":"CODE",
     "hide_input_from_viewers":true,
     "hide_output_from_viewers":true
    }
   }
  },
  {
   "cell_type":"code",
   "source":[
    "lis.append(\"5\")\n",
    "print(\"after append\" ,lis)"
   ],
   "execution_count":37,
   "outputs":[
    {
     "name":"stdout",
     "text":[
      "after append ['1', '3', '2', '5']\n"
     ],
     "output_type":"stream"
    }
   ],
   "metadata":{
    "datalore":{
     "node_id":"U9i6u74fiORkniUsnoF1Pp",
     "type":"CODE",
     "hide_input_from_viewers":true,
     "hide_output_from_viewers":true
    }
   }
  },
  {
   "cell_type":"code",
   "source":[
    "num = frozenset(lis) \n",
    "\n",
    "for item in num :\n",
    "    print(item)"
   ],
   "execution_count":39,
   "outputs":[
    {
     "name":"stdout",
     "text":[
      "5\n",
      "1\n",
      "3\n",
      "2\n"
     ],
     "output_type":"stream"
    }
   ],
   "metadata":{
    "datalore":{
     "node_id":"gVUd7WT0aluNklrlNYEFEp",
     "type":"CODE",
     "hide_input_from_viewers":true,
     "hide_output_from_viewers":true
    }
   }
  },
  {
   "cell_type":"markdown",
   "source":[
    "num = list  แบบนี้ไม่ได้ มันคือ num frozen จะกลายเป็น List"
   ],
   "attachments":{
    
   },
   "metadata":{
    "datalore":{
     "node_id":"qFos7ir7LnQwnz6BfPTMZO",
     "type":"MD",
     "hide_input_from_viewers":true,
     "hide_output_from_viewers":true
    }
   }
  }
 ],
 "metadata":{
  "kernelspec":{
   "display_name":"Python",
   "language":"python",
   "name":"python"
  },
  "datalore":{
   "computation_mode":"JUPYTER",
   "package_manager":"pip",
   "base_environment":"default",
   "packages":[
    
   ],
   "report_row_ids":[
    
   ],
   "version":3
  }
 },
 "nbformat":4,
 "nbformat_minor":4
}