{
 "cells": [
  {
   "cell_type": "markdown",
   "id": "8d874b66",
   "metadata": {},
   "source": [
    "<h4> Function : </h4>\n",
    "<p> การสร้างฟังก์ชั่น และ การเรียกใช้ฟังก์ชั่น </p>\n"
   ]
  },
  {
   "cell_type": "code",
   "execution_count": 3,
   "id": "7ad2180e",
   "metadata": {},
   "outputs": [],
   "source": [
    "def sayHi():\n",
    "    print(\"Hello\")\n",
    "    \n",
    "def sayThailand():\n",
    "    print(\"thailand!!\")\n",
    "    \n",
    "def sayKhim():\n",
    "    print(\"khim\")"
   ]
  },
  {
   "cell_type": "code",
   "execution_count": 5,
   "id": "814c1a7c",
   "metadata": {},
   "outputs": [
    {
     "name": "stdout",
     "output_type": "stream",
     "text": [
      "thailand!!\n",
      "Hello\n",
      "khim\n"
     ]
    }
   ],
   "source": [
    "sayThailand()\n",
    "sayHi()\n",
    "sayKhim()"
   ]
  },
  {
   "cell_type": "code",
   "execution_count": 6,
   "id": "219f0c3a",
   "metadata": {},
   "outputs": [],
   "source": [
    "def add():\n",
    "    x = 3 + 1\n",
    "    print(x)"
   ]
  },
  {
   "cell_type": "code",
   "execution_count": 7,
   "id": "8d96db8b",
   "metadata": {},
   "outputs": [
    {
     "name": "stdout",
     "output_type": "stream",
     "text": [
      "4\n"
     ]
    }
   ],
   "source": [
    "add()"
   ]
  },
  {
   "cell_type": "code",
   "execution_count": 8,
   "id": "61c6873b",
   "metadata": {
    "scrolled": true
   },
   "outputs": [
    {
     "name": "stdout",
     "output_type": "stream",
     "text": [
      "Hello\n",
      "Hello\n",
      "Hello\n",
      "Hello\n"
     ]
    }
   ],
   "source": [
    "for i in range(4):\n",
    "    sayHi()"
   ]
  },
  {
   "cell_type": "markdown",
   "id": "17daca78",
   "metadata": {},
   "source": [
    "<h5> Global variable vs Local variable </h5>"
   ]
  },
  {
   "cell_type": "code",
   "execution_count": 14,
   "id": "3073b412",
   "metadata": {},
   "outputs": [],
   "source": [
    "def displayNumber():\n",
    "    x = 10  # Local\n",
    "    print(\"Hello\" , x , \"ใน\")"
   ]
  },
  {
   "cell_type": "code",
   "execution_count": 15,
   "id": "a65aedbc",
   "metadata": {},
   "outputs": [
    {
     "name": "stdout",
     "output_type": "stream",
     "text": [
      "Hello 10 ใน\n"
     ]
    }
   ],
   "source": [
    "displayNumber()"
   ]
  },
  {
   "cell_type": "code",
   "execution_count": 16,
   "id": "4a903e1d",
   "metadata": {},
   "outputs": [
    {
     "name": "stdout",
     "output_type": "stream",
     "text": [
      "Hello 10 ใน\n",
      "hello 20 นอก\n"
     ]
    }
   ],
   "source": [
    "x = 20 #global\n",
    "displayNumber()\n",
    "print(\"hello\" , x , \"นอก\")"
   ]
  },
  {
   "cell_type": "markdown",
   "id": "65a5e1c2",
   "metadata": {},
   "source": [
    "<h5> การส่งค่าเข้ามาใน function </h5>"
   ]
  },
  {
   "cell_type": "code",
   "execution_count": 20,
   "id": "c05cbf96",
   "metadata": {},
   "outputs": [],
   "source": [
    "def myData(name):\n",
    "    print(\"hello\" , name )\n",
    "    "
   ]
  },
  {
   "cell_type": "code",
   "execution_count": 21,
   "id": "852ab461",
   "metadata": {},
   "outputs": [
    {
     "name": "stdout",
     "output_type": "stream",
     "text": [
      "hello khim\n"
     ]
    }
   ],
   "source": [
    "myData(\"khim\")"
   ]
  },
  {
   "cell_type": "code",
   "execution_count": 22,
   "id": "c4ef414d",
   "metadata": {},
   "outputs": [
    {
     "name": "stdout",
     "output_type": "stream",
     "text": [
      "hello Nut\n"
     ]
    }
   ],
   "source": [
    "myData(\"Nut\")"
   ]
  },
  {
   "cell_type": "code",
   "execution_count": 23,
   "id": "3eb1abc4",
   "metadata": {},
   "outputs": [
    {
     "name": "stdout",
     "output_type": "stream",
     "text": [
      "hello 5\n"
     ]
    }
   ],
   "source": [
    "myData(5)"
   ]
  },
  {
   "cell_type": "code",
   "execution_count": 24,
   "id": "51c7e119",
   "metadata": {},
   "outputs": [],
   "source": [
    "def yourData(name,lname):\n",
    "    print(\"name : \" , name)\n",
    "    print(\"surname : \", lname)"
   ]
  },
  {
   "cell_type": "code",
   "execution_count": 25,
   "id": "1e0e3c7b",
   "metadata": {},
   "outputs": [
    {
     "name": "stdout",
     "output_type": "stream",
     "text": [
      "name :  Korbun\n",
      "surname :  Sugragarn\n"
     ]
    }
   ],
   "source": [
    "yourData(\"Korbun\" , \"Sugragarn\")"
   ]
  },
  {
   "cell_type": "code",
   "execution_count": 30,
   "id": "33fd95a0",
   "metadata": {},
   "outputs": [],
   "source": [
    "def data(a,b,c):\n",
    "    print(\"name : \", a)\n",
    "    print(\"surname :\", b)\n",
    "    print(\"age : \", c)"
   ]
  },
  {
   "cell_type": "code",
   "execution_count": 31,
   "id": "78cd357f",
   "metadata": {},
   "outputs": [
    {
     "name": "stdout",
     "output_type": "stream",
     "text": [
      "name :  Korbun\n",
      "surname : sugragarn\n",
      "age :  20\n"
     ]
    }
   ],
   "source": [
    "fname = \"Korbun\"\n",
    "lname = \"sugragarn\"\n",
    "age = 20\n",
    "\n",
    "data(fname , lname , age)"
   ]
  },
  {
   "cell_type": "markdown",
   "id": "fa153c63",
   "metadata": {},
   "source": [
    "<h4>Argument / Parameter </h4>"
   ]
  },
  {
   "cell_type": "markdown",
   "id": "b482bf14",
   "metadata": {},
   "source": [
    "<p> Argument => ค่าที่ส่งเข้าไปใน function      : fname / lname / age </p>\n",
    "<p> Parameter => ค่าตัวแปรที่รับข้อมูล    : a, b ,c </p>"
   ]
  },
  {
   "cell_type": "markdown",
   "id": "a1de750c",
   "metadata": {},
   "source": [
    "<h4> Assignment : func แยกเลขคู่ เลขคี่ </h4>"
   ]
  },
  {
   "cell_type": "code",
   "execution_count": 32,
   "id": "8ab6088b",
   "metadata": {},
   "outputs": [],
   "source": [
    "def num(number):\n",
    "    if number%2 == 0:\n",
    "        print(\"even\")\n",
    "    else : print(\"odd\")"
   ]
  },
  {
   "cell_type": "code",
   "execution_count": 33,
   "id": "4fda127c",
   "metadata": {},
   "outputs": [
    {
     "name": "stdout",
     "output_type": "stream",
     "text": [
      "even\n"
     ]
    }
   ],
   "source": [
    "num(2)"
   ]
  },
  {
   "cell_type": "markdown",
   "id": "b8ebf1b3",
   "metadata": {},
   "source": [
    "<h4> *agrs </h4>"
   ]
  },
  {
   "cell_type": "code",
   "execution_count": 37,
   "id": "04a8db57",
   "metadata": {},
   "outputs": [],
   "source": [
    "def add1(*args):\n",
    "    print(args)"
   ]
  },
  {
   "cell_type": "code",
   "execution_count": 40,
   "id": "f661970d",
   "metadata": {},
   "outputs": [
    {
     "name": "stdout",
     "output_type": "stream",
     "text": [
      "()\n",
      "(1,)\n",
      "(1, 2, 'khim')\n"
     ]
    }
   ],
   "source": [
    "add1()\n",
    "add1(1)\n",
    "add1(1,2,\"khim\")"
   ]
  },
  {
   "cell_type": "code",
   "execution_count": 41,
   "id": "5937fdb5",
   "metadata": {},
   "outputs": [],
   "source": [
    "def add(*args):\n",
    "    print(args[0] + args[1])"
   ]
  },
  {
   "cell_type": "code",
   "execution_count": 42,
   "id": "8c9f8661",
   "metadata": {},
   "outputs": [
    {
     "name": "stdout",
     "output_type": "stream",
     "text": [
      "30\n"
     ]
    }
   ],
   "source": [
    "add(10,20)"
   ]
  },
  {
   "cell_type": "code",
   "execution_count": 48,
   "id": "fa930044",
   "metadata": {},
   "outputs": [],
   "source": [
    "def add2(*args):\n",
    "    sum = 0\n",
    "    for item in range(len(args)):\n",
    "        sum += args[item]\n",
    "    print(sum)"
   ]
  },
  {
   "cell_type": "code",
   "execution_count": 49,
   "id": "7d4baa9f",
   "metadata": {},
   "outputs": [
    {
     "name": "stdout",
     "output_type": "stream",
     "text": [
      "21\n"
     ]
    }
   ],
   "source": [
    "add2(1,2,3,4,5,6)"
   ]
  },
  {
   "cell_type": "code",
   "execution_count": 54,
   "id": "6b1e8714",
   "metadata": {},
   "outputs": [],
   "source": [
    "def add2(*args):\n",
    "    sum = 0\n",
    "    for item in args:\n",
    "        sum += item\n",
    "    print(sum)"
   ]
  },
  {
   "cell_type": "code",
   "execution_count": 55,
   "id": "66b8e306",
   "metadata": {},
   "outputs": [
    {
     "name": "stdout",
     "output_type": "stream",
     "text": [
      "21\n"
     ]
    }
   ],
   "source": [
    "add2(1,2,3,4,5,6)"
   ]
  },
  {
   "cell_type": "markdown",
   "id": "b8fa62bb",
   "metadata": {},
   "source": [
    "<h4> Keyword data </h4>"
   ]
  },
  {
   "cell_type": "code",
   "execution_count": 56,
   "id": "a3c682be",
   "metadata": {},
   "outputs": [],
   "source": [
    "def displayData(fname, lname, city):\n",
    "    print(\"name : \", fname)\n",
    "    print(\"surname :\" , lname)\n",
    "    print(\"city : \", city)"
   ]
  },
  {
   "cell_type": "code",
   "execution_count": 58,
   "id": "903a06c3",
   "metadata": {},
   "outputs": [
    {
     "name": "stdout",
     "output_type": "stream",
     "text": [
      "name :   Korbun\n",
      "surname :  Sugragarn\n",
      "city :  bkk\n"
     ]
    }
   ],
   "source": [
    "displayData(city = \"bkk\" , fname = \" Korbun\",lname = \" Sugragarn\")"
   ]
  },
  {
   "cell_type": "markdown",
   "id": "2598a33b",
   "metadata": {},
   "source": [
    "<h4> default paramiter </h4>\n"
   ]
  },
  {
   "cell_type": "code",
   "execution_count": 59,
   "id": "d963cc96",
   "metadata": {},
   "outputs": [],
   "source": [
    "def displayData(fname, lname, city = \"bkk\"):\n",
    "    print(\"name : \", fname)\n",
    "    print(\"surname :\" , lname)\n",
    "    print(\"city : \", city)"
   ]
  },
  {
   "cell_type": "code",
   "execution_count": 60,
   "id": "65541f19",
   "metadata": {},
   "outputs": [
    {
     "name": "stdout",
     "output_type": "stream",
     "text": [
      "name :   Korbun\n",
      "surname :  Sugragarn\n",
      "city :  bkk\n"
     ]
    }
   ],
   "source": [
    "displayData( fname = \" Korbun\",lname = \" Sugragarn\")"
   ]
  },
  {
   "cell_type": "markdown",
   "id": "e5952513",
   "metadata": {},
   "source": [
    "ถ้าไม่ใส่ข้อมูล city  func จะยัด bkk มาให้เสมอ "
   ]
  },
  {
   "cell_type": "code",
   "execution_count": 61,
   "id": "b5949390",
   "metadata": {
    "scrolled": true
   },
   "outputs": [
    {
     "name": "stdout",
     "output_type": "stream",
     "text": [
      "name :   Korbun\n",
      "surname :  Sugragarn\n",
      "city :  chonburi\n"
     ]
    }
   ],
   "source": [
    "displayData( city = \"chonburi\" ,fname = \" Korbun\",lname = \" Sugragarn\")"
   ]
  },
  {
   "cell_type": "markdown",
   "id": "198442d4",
   "metadata": {},
   "source": [
    "<h4> function รับและคืนค่า </h4>\n"
   ]
  },
  {
   "cell_type": "code",
   "execution_count": 62,
   "id": "bca5c42a",
   "metadata": {},
   "outputs": [],
   "source": [
    "def add(a,b):\n",
    "    return a + b"
   ]
  },
  {
   "cell_type": "code",
   "execution_count": 63,
   "id": "7eaf5f68",
   "metadata": {},
   "outputs": [
    {
     "name": "stdout",
     "output_type": "stream",
     "text": [
      "4\n"
     ]
    }
   ],
   "source": [
    "print(add(2,2))"
   ]
  },
  {
   "cell_type": "code",
   "execution_count": 64,
   "id": "fa5122df",
   "metadata": {},
   "outputs": [],
   "source": [
    "def showNum():\n",
    "    return 500"
   ]
  },
  {
   "cell_type": "code",
   "execution_count": 65,
   "id": "8865b127",
   "metadata": {},
   "outputs": [
    {
     "name": "stdout",
     "output_type": "stream",
     "text": [
      "500\n"
     ]
    }
   ],
   "source": [
    "print(showNum())"
   ]
  },
  {
   "cell_type": "markdown",
   "id": "a087fbf5",
   "metadata": {},
   "source": [
    "<h4> return </h4>"
   ]
  },
  {
   "cell_type": "code",
   "execution_count": 66,
   "id": "512c0a08",
   "metadata": {},
   "outputs": [],
   "source": [
    "def random(x):\n",
    "    if len(x) < 3 :\n",
    "        return\n",
    "    if x == \"100\" :\n",
    "        print(\"yes\")\n",
    "    else :\n",
    "        print(\"No\")"
   ]
  },
  {
   "cell_type": "code",
   "execution_count": 67,
   "id": "edebc7c7",
   "metadata": {},
   "outputs": [
    {
     "name": "stdout",
     "output_type": "stream",
     "text": [
      "yes\n"
     ]
    }
   ],
   "source": [
    "money = random(\"100\")"
   ]
  },
  {
   "cell_type": "code",
   "execution_count": 71,
   "id": "2dc968c9",
   "metadata": {},
   "outputs": [],
   "source": [
    "money = random(\"1\")"
   ]
  },
  {
   "cell_type": "markdown",
   "id": "9be03e98",
   "metadata": {},
   "source": [
    "<h4> **kwargs </h4>"
   ]
  },
  {
   "cell_type": "markdown",
   "id": "c321d089",
   "metadata": {},
   "source": [
    "output : dict"
   ]
  },
  {
   "cell_type": "code",
   "execution_count": 72,
   "id": "2faa69b2",
   "metadata": {},
   "outputs": [],
   "source": [
    "def display(**kwargs):\n",
    "    print(kwargs)"
   ]
  },
  {
   "cell_type": "code",
   "execution_count": 74,
   "id": "ef412644",
   "metadata": {},
   "outputs": [
    {
     "name": "stdout",
     "output_type": "stream",
     "text": [
      "{'faname': 'korbun', 'sname': 'sugragarn'}\n"
     ]
    }
   ],
   "source": [
    "display(faname = \"korbun\" , sname = \"sugragarn\")"
   ]
  },
  {
   "cell_type": "code",
   "execution_count": null,
   "id": "25447a84",
   "metadata": {},
   "outputs": [],
   "source": []
  }
 ],
 "metadata": {
  "kernelspec": {
   "display_name": "Python 3 (ipykernel)",
   "language": "python",
   "name": "python3"
  },
  "language_info": {
   "codemirror_mode": {
    "name": "ipython",
    "version": 3
   },
   "file_extension": ".py",
   "mimetype": "text/x-python",
   "name": "python",
   "nbconvert_exporter": "python",
   "pygments_lexer": "ipython3",
   "version": "3.11.5"
  }
 },
 "nbformat": 4,
 "nbformat_minor": 5
}
